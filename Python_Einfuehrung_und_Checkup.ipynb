{
 "cells": [
  {
   "cell_type": "markdown",
   "metadata": {},
   "source": [
    "# 0 Python Einführung und Checkup\n",
    "[Python](https://www.python.org/) ist eine einfach zu erlernende und benutzende [Programmiersprache](https://de.wikipedia.org/wiki/Programmiersprache). Bereits mit Hilfe der Grundfunktionalität lassen sich viele Aufgaben lösen und Probleme bearbeiten.\n",
    "\n",
    "Darüber hinaus gibt es jedoch auch noch nahezu für jeden Bereich zusätzliche [Bibliotheken (Libraries)](https://de.wikipedia.org/wiki/Programmbibliothek), die in Python sehr einfach geladen werden können und durch die man noch weitere Funktionalität zur Verfügung hat, ohne selbst viel programmieren zu müssen.\n",
    "\n",
    "In einer Distribution mit Paket-Management (wie [Anaconda](https://anaconda.org/)) lassen sich diese Pakete einfach installieren. Braucht man mehr bzw. verschiedene Zusammenstellungen von Paketen für verschiedene Problemstellungen, empfiehlt sich der Umgang mit [Umgebungen (Environments)](https://docs.conda.io/projects/conda/en/latest/user-guide/tasks/manage-environments.html) in Anaconda.\n",
    "\n",
    "In diesem [Jupyter-Notebook](https://jupyter.org/) werden wir uns zur Wiederholung einmal durch die wichtigsten Python-Funktionen durcharbeiten. \n",
    "\n",
    "Am Ende gibt es eine kurze Aufgabe, die Sie in einer halben Stunde lösen sollten."
   ]
  },
  {
   "cell_type": "markdown",
   "metadata": {},
   "source": [
    "## 0.1 Variablen und Funktionen in Python"
   ]
  },
  {
   "cell_type": "code",
   "execution_count": null,
   "metadata": {},
   "outputs": [],
   "source": [
    "# Definition zweier integer Variablen\n",
    "var_1 = 1\n",
    "var_2 = 2\n",
    "\n",
    "# Ausgabe der Summe auf dem Bildschirm\n",
    "print(\"Die Summe der beiden Variablen ist: \", var_1 + var_2)\n"
   ]
  },
  {
   "cell_type": "code",
   "execution_count": null,
   "metadata": {},
   "outputs": [],
   "source": [
    "# Definition von String Variablen\n",
    "var_1 = \"Hello\"\n",
    "var_2 = \"World!\"\n",
    "\n",
    "# Ausgabe der Summe auf dem Bildschirm\n",
    "print(\"Der überraschende Text: \", var_1 + \" \" + var_2 + \"\\n\" + \"Das war überraschend!\")\n"
   ]
  },
  {
   "cell_type": "code",
   "execution_count": null,
   "metadata": {},
   "outputs": [],
   "source": [
    "# Definition einer Funktion\n",
    "def a_function(var_1, optional_var_1 = 10):\n",
    "    \n",
    "    # addiere 10 (oder einen anderen Term) zur eingegebenen Zahl\n",
    "    output = var_1 + optional_var_1\n",
    "    \n",
    "    # was von der Funktion zurückgegeben wird\n",
    "    return output\n",
    "\n",
    "# verwende die Funktion\n",
    "print(\"Ohne optionales Argument: \", a_function(1))\n",
    "print(\"Mit optionalem Argument: \", a_function(1,5))"
   ]
  },
  {
   "cell_type": "markdown",
   "metadata": {},
   "source": [
    "## 0.2 Listen und Loops in Python"
   ]
  },
  {
   "cell_type": "code",
   "execution_count": null,
   "metadata": {},
   "outputs": [],
   "source": [
    "# Definition der Liste\n",
    "a_list = [1,3,5,7,9]\n",
    "\n",
    "# noch eine leere Liste\n",
    "square_list = []\n",
    "\n",
    "# For-Loop über Listen-Elemente\n",
    "for an_element in a_list:\n",
    "    \n",
    "    # Ausgabe von Informationen zur Variable, über die der Loop läuft\n",
    "    print(an_element, \" zum Quadrat ist \", an_element**2)\n",
    "    \n",
    "    # Hänge ein Ergebnis an eine andere Liste an\n",
    "    square_list.append(an_element**2)\n",
    "    \n",
    "# gib am Schluss auch die andere Liste aus\n",
    "print(\"Die Quadrat-Liste ist jetzt \", square_list)"
   ]
  },
  {
   "cell_type": "code",
   "execution_count": null,
   "metadata": {},
   "outputs": [],
   "source": [
    "# Eine andere Art von Loop\n",
    "\n",
    "# initialisiere einen Zähler\n",
    "a_counter = 0\n",
    "\n",
    "# While-Loop, bis der Zähler 10 erreicht\n",
    "while a_counter < 10:\n",
    "    \n",
    "    # Ausgabe des Zählers\n",
    "    print(\"die nächste Zahl ist \", a_counter)\n",
    "    \n",
    "    # Erhöhe den Zähler um 1\n",
    "    a_counter += 1"
   ]
  },
  {
   "cell_type": "code",
   "execution_count": null,
   "metadata": {},
   "outputs": [],
   "source": [
    "# Loop über Elemente und indices einer Liste\n",
    "for an_index, an_element in enumerate(square_list):\n",
    "    \n",
    "    # Ausgabe von Informationen, wobei man Index in der Liste und das Element nutzen kann\n",
    "    print(\"die Zahl an der Stelle \", an_index, \" ist \", an_element)\n",
    "    "
   ]
  },
  {
   "cell_type": "code",
   "execution_count": null,
   "metadata": {},
   "outputs": [],
   "source": [
    "# Ein impliziter Loop erzeugt eine Liste\n",
    "print(\"Die ersten paar Quadrate: \", [b**2 for b in range(100)])"
   ]
  },
  {
   "cell_type": "markdown",
   "metadata": {},
   "source": [
    "## 0.3 Fallunterscheidungen in Python"
   ]
  },
  {
   "cell_type": "code",
   "execution_count": null,
   "metadata": {},
   "outputs": [],
   "source": [
    "# Variablen mit Wahrheitswert\n",
    "is_it = True\n",
    "it_is = False\n",
    "\n",
    "# Ausgabe der Ergebnisse logischer Operationen\n",
    "print(\"AND: \", it_is and is_it)\n",
    "print(\"OR: \", it_is or is_it)\n",
    "\n",
    "# IF-Statement, d.h. Abfrage ob etwas wahr oder falsch ist\n",
    "if(it_is and is_it):\n",
    "    \n",
    "    # wenn Abfrage wahr ist, tu das:\n",
    "    print(\"Kombiniert!\")\n",
    "\n",
    "# weitere Abfrage für zusätzliche Möglichkeiten\n",
    "elif(it_is or is_it):\n",
    "    \n",
    "    # wenn das wahr ist, dann tu das:\n",
    "    print(\"Nicht ganz!\")\n",
    "    \n",
    "# und für alle andere Fälle\n",
    "else:\n",
    "    \n",
    "    # wenn bisher nichts zugetroffen ist, dann tu das:\n",
    "    print(\"Weder noch!\")"
   ]
  },
  {
   "cell_type": "markdown",
   "metadata": {},
   "source": [
    "## 0.4 Dictionaries in Python"
   ]
  },
  {
   "cell_type": "code",
   "execution_count": null,
   "metadata": {},
   "outputs": [],
   "source": [
    "# Definition eines Dictionary:\n",
    "# Im Prinzip eine Sammlung von Zuordnungen von \"values\" zu \"keys\"\n",
    "a_dict = {\"Alice\": 12, \"Bob\": 14}\n",
    "\n",
    "# Ausgabe von Eigenschaften/values über keys\n",
    "print(\"So alt ist Alice: \", a_dict[\"Alice\"])"
   ]
  },
  {
   "cell_type": "code",
   "execution_count": null,
   "metadata": {},
   "outputs": [],
   "source": [
    "# Einträge in Dictionaries lassen sich hinzufügen\n",
    "a_dict[\"Frank\"] = 16\n",
    "\n",
    "# und ändern\n",
    "a_dict[\"Alice\"] = 13\n",
    "\n",
    "# Ausgabe des aktuellen Dictionary\n",
    "print(\"Die aktuellen Werte: \", a_dict)"
   ]
  },
  {
   "cell_type": "code",
   "execution_count": null,
   "metadata": {},
   "outputs": [],
   "source": [
    "# values in Dictionaries können auch Dictionaries sein\n",
    "another_dict = {\"people\": a_dict}\n",
    "\n",
    "# so sieht ein verschachteltes Dictionary aus\n",
    "print(\"Verschachteltes Dict: \", another_dict)"
   ]
  },
  {
   "cell_type": "markdown",
   "metadata": {},
   "source": [
    "## 0.5 Mathematische Funktionen und Arrays in Python: [Die NumPy-Bibliothek](https://numpy.org/)"
   ]
  },
  {
   "cell_type": "code",
   "execution_count": null,
   "metadata": {},
   "outputs": [],
   "source": [
    "# Mathematische Funktionen ohne NumPy findet man hier:\n",
    "import math as m\n",
    "\n",
    "# andere Möglichkeiten für den Import:\n",
    "# import math\n",
    "# from math import sin, cos, exp\n",
    "\n",
    "# Aber Achtung: Tun Sie das nie (Lebensgefahr!):\n",
    "# from math import *\n",
    "\n",
    "# Ausgabe des Sinus von Pi\n",
    "print(m.sin(m.pi/2))\n",
    "\n",
    "# Ausgabe der Exponentialfunktion von minus ein Halb\n",
    "print(m.exp(-.5))"
   ]
  },
  {
   "cell_type": "code",
   "execution_count": null,
   "metadata": {},
   "outputs": [],
   "source": [
    "# NumPy stellt eine breite mathematische Funktionalität und Arrays bereit\n",
    "import numpy as np\n",
    "\n",
    "# Machen wir ein Array aus einer der Listen von oben\n",
    "square_array = np.array(square_list)\n",
    "\n",
    "# Ausgabe des Arrays\n",
    "print(square_array)"
   ]
  },
  {
   "cell_type": "code",
   "execution_count": null,
   "metadata": {},
   "outputs": [],
   "source": [
    "# rechnen mit Arrays ist sehr intuitiv\n",
    "# Hier die (elementweise) Multiplikation mit der Zahl 4\n",
    "print(square_array*4)\n",
    "\n",
    "# Hier das elementweise Quadrieren des Arrays\n",
    "print(square_array**2)\n",
    "\n",
    "# Hier der elementweise Logarithmus des Arrays\n",
    "print(np.log(square_array))\n",
    "\n",
    "# Hier die elementweise Exponentialfunktion des Arrays\n",
    "print(np.exp(square_array))"
   ]
  },
  {
   "cell_type": "code",
   "execution_count": null,
   "metadata": {},
   "outputs": [],
   "source": [
    "# In NumPy findet man auch Zufallszahlen (mehr dazu in einer späteren Einheit), z.B.:\n",
    "\n",
    "# Loop über 20 Runden\n",
    "for i in range(20):\n",
    "    \n",
    "    # Wähle zwei Zahlen aus dem Array von vorhin, mit Zurücklegen\n",
    "    a_selection = np.random.choice(square_array, 2, replace=True)\n",
    "    \n",
    "    # Gib das Ergebnis aus\n",
    "    print(a_selection)\n",
    "    \n",
    "    # Überprüfe, ob die zwei gezogenen Zahlen zufällig gleich sind\n",
    "    if a_selection[0] == a_selection[1]:\n",
    "        \n",
    "        # Wenn ja, bitte kurz jubeln!\n",
    "        print(\"Yeee-Haaaa!\")"
   ]
  },
  {
   "cell_type": "code",
   "execution_count": null,
   "metadata": {},
   "outputs": [],
   "source": [
    "# Arrays können auch mehrdimensional sein (die gewünschte Größe wird als Tupel angegeben):\n",
    "another_array = np.random.random(size=(5, 5))\n",
    "\n",
    "# Ausgabe dieses Zufallsarrays mit gleichverteilten Zahlen zwischen 0 und 1\n",
    "print(another_array)\n",
    "\n",
    "# Ein Array mit lauter 1en\n",
    "some_ones = np.ones((5, 5))\n",
    "\n",
    "# Ein Array mit lauter 0en\n",
    "some_zeros = np.zeros((5, 5))\n",
    "\n",
    "# Hier eine Art IF-Abfrage, aber elementweise für Arrays:\n",
    "# wo das \"andere Array\" kleiner als 0.5 ist, schreibe eine 1 in den Check, \n",
    "# ansonsten schreibe dort eine 0 hinein\n",
    "the_check = np.where(another_array < 0.5 * some_ones, some_ones, some_zeros)\n",
    "\n",
    "# Ausgabe der 0en und 1en für das Check-Array\n",
    "print(the_check)\n",
    "\n",
    "# Summiere alle Fälle größer 0.5 und gib die Summe aus\n",
    "print(\"größer als 1/2: \", np.sum(the_check))\n",
    "\n",
    "# Die gleiche Summe, aber nur über die Spalten ausgeführt\n",
    "# Die Ausgabe wird als Integer angefordert\n",
    "print(\"pro Zeile: \", np.sum(the_check, axis=1).astype(int))"
   ]
  },
  {
   "cell_type": "markdown",
   "metadata": {},
   "source": [
    "## 0.6 Plotting in Python: [Die Matplotlib-Bibliothek](https://matplotlib.org/)"
   ]
  },
  {
   "cell_type": "code",
   "execution_count": null,
   "metadata": {},
   "outputs": [],
   "source": [
    "%matplotlib inline\n",
    "\n",
    "# die vorige Zeile stellt den Ausgabe-Modus für Plots im Jupyter-Notebook ein\n",
    "\n",
    "# Die Standart-Art, Matplotlib zu importieren\n",
    "import matplotlib.pyplot as plt\n",
    "\n",
    "# Beginne eine neue Figur/Grafik\n",
    "fig = plt.figure()\n",
    "\n",
    "# Zeichne rote Punkte von Daten aus dem Quadrat-Array, nochmals quadriert, mit Bezeichnung\n",
    "plt.plot(np.arange(len(square_array)), square_array**2, \"r.\", label=\"Squares squared\")\n",
    "\n",
    "# Zeichne eine blaue Linie für Daten aus dem Quadrat-Array, mit Bezeichnung\n",
    "plt.plot(np.arange(len(square_array)), square_array, \"b-\", label=\"Just Squares\")\n",
    "\n",
    "# Setze Beschriftung für die x-Achse fest\n",
    "plt.xlabel(\"Numbers\")\n",
    "\n",
    "# Setze Beschriftung für die y-Achse fest\n",
    "plt.ylabel(\"Squares?\")\n",
    "\n",
    "# Setze Beschriftung für den Plot fest\n",
    "plt.title(\"A nice plot\")\n",
    "\n",
    "# Setze Skalierung für die y-Achse auf logarithmisch\n",
    "plt.yscale(\"log\")\n",
    "\n",
    "# Erzeuge aus den Bezeichnungen eine Legende im Plot\n",
    "plt.legend(loc=0)\n",
    "\n",
    "# Speichere die Grafik als pdf-Datei ab\n",
    "plt.savefig(\"test_plot.pdf\")\n",
    "\n",
    "# Zeige die Grafik außerdem hier an\n",
    "plt.show()"
   ]
  },
  {
   "cell_type": "code",
   "execution_count": null,
   "metadata": {},
   "outputs": [],
   "source": [
    "# Erzeuge noch eine Figur\n",
    "fig2 = plt.figure()\n",
    "\n",
    "# Plotte die Werte im anderen Array als farbige Bild-Punkte bzw. -Quadrate\n",
    "plt.matshow(another_array)\n",
    "\n",
    "# zeige die Figur hier an\n",
    "plt.show()"
   ]
  },
  {
   "cell_type": "markdown",
   "metadata": {},
   "source": [
    "## 0.7 Input und Output in Python"
   ]
  },
  {
   "cell_type": "code",
   "execution_count": null,
   "metadata": {},
   "outputs": [],
   "source": [
    "# Direkter Input durch den User, Achtung, das Resultat ist eine String-Variable\n",
    "# an dieser Stelle wartet das Programm auf eine Eingabe\n",
    "a_number = int(input(\"Bitte eine Zahl eingeben: \"))\n",
    "\n",
    "# Ausgabe des Quadrats der Eingabe\n",
    "print(\"Das Quadrat Ihrer Zahl ist \", a_number**2)"
   ]
  },
  {
   "cell_type": "code",
   "execution_count": null,
   "metadata": {},
   "outputs": [],
   "source": [
    "# Schreiben in eine Datei\n",
    "# Zunächst öffnen wir die Datei mit der Fähigkeit zu schreiben (\"w\")\n",
    "out_f = open(\"a_text_file.csv\", \"w\")\n",
    "\n",
    "# Dann schreiben wir die erste Zeile (Header) in die Datei\n",
    "# \\n macht eine neue Zeile\n",
    "out_f.write(\"Zahl,Quadrat\\n\")\n",
    "\n",
    "# Loop über 20 Zahlen\n",
    "for i in range(20):\n",
    "    \n",
    "    # Schreibe die aktuelle Zahl und ihr Quadrat in die nächste Zeile\n",
    "    # Achtung: Das Argument der Schreib-Funktion ist ein einzelner String\n",
    "    out_f.write(str(i)+\",\"+str(i**2)+\"\\n\")\n",
    "    \n",
    "# Schließe die Datei wieder    \n",
    "out_f.close()"
   ]
  },
  {
   "cell_type": "code",
   "execution_count": null,
   "metadata": {},
   "outputs": [],
   "source": [
    "# Lesen aus einer Datei (präzise, kann aber mühsam sein)\n",
    "# Zunächst öffnen wir die Datei, diesmal mit der Fähigkeit zu Lesen (\"r\")\n",
    "in_f = open(\"a_text_file.csv\", \"r\")\n",
    "\n",
    "# Ausgabe der Zeilen in der gelesenen Datei\n",
    "print(in_f.readlines())\n",
    "\n",
    "# Schließe die Datei wieder\n",
    "in_f.close()"
   ]
  },
  {
   "cell_type": "code",
   "execution_count": null,
   "metadata": {},
   "outputs": [],
   "source": [
    "# NumPy hat eine gute und einfachere Alternative für das Einlesen\n",
    "# von Dateien parat, z.B. im csv-Format:\n",
    "new_array = np.genfromtxt(\"a_text_file.csv\", dtype=int, delimiter=\",\", skip_header=1)\n",
    "\n",
    "# Ausgabe des eingelesenen Dateiinhalts\n",
    "print(new_array)"
   ]
  },
  {
   "cell_type": "markdown",
   "metadata": {},
   "source": [
    "## 0.8 Übungsaufgabe: Berechnung von Primzahlen\n",
    "Berechnen Sie die ersten 1000 Primzahlen und stellen Sie deren Häufigkeit in einem Histogramm dar.\n",
    "\n",
    "Wenn Sie das selbständig üben wollen, dann schauen Sie sich meine Beispiellösung erst etwas später an. Das ist natürlich nicht die einzige Möglichkeit, diese Aufgabe zu lösen ..."
   ]
  },
  {
   "cell_type": "code",
   "execution_count": null,
   "metadata": {},
   "outputs": [],
   "source": [
    "# initialisiere die Liste der Primzahlen mit 2, der einzigen geraden Primzahl\n",
    "list_of_primes = [2]\n",
    "\n",
    "# Berechne die derzeitige Anzahl der Primzahlen in der Liste\n",
    "total_number = len(list_of_primes)\n",
    "\n",
    "# Setze den Wert für den ersten zusätzlichen Kandidaten nach der 2\n",
    "candidate = 3\n",
    "\n",
    "# Ein While-Loop hilft dabei, die Abbruchbedingung (1000 Zahlen) umzusetzen\n",
    "while total_number < 1000:\n",
    "    \n",
    "    # setzte die Eigenschaft \"ist eine Primzahl\" auf True\n",
    "    is_prime = True\n",
    "    \n",
    "    # jetzt suchen wir nach Teilern, dadurch können wir diese Eigenschaft ggf. widerlegen\n",
    "    # Loop über alle bisher gefundenen Primzahlen (denn nur die kommen eigentlich als\n",
    "    # Teiler in Frage)\n",
    "    for a_prime in list_of_primes:\n",
    "        \n",
    "        # checke, ob die momentane Primzahl größer ist als die Wurzel aus dem\n",
    "        # Kandidaten, denn wenn das so wäre, kann sie kein Teiler mehr sein\n",
    "        # (denn dann müsste es auch einen kleineren Teiler geben, und die\n",
    "        # haben wir alle schon überprüft)\n",
    "        if a_prime > np.sqrt(candidate):\n",
    "            \n",
    "            # Verlasse den innersten Loop, in dem wir uns gerade befinden\n",
    "            break\n",
    "        \n",
    "        # checke, ob die momentane Primzahl den Kandidaten teilt\n",
    "        if (candidate % a_prime == 0):\n",
    "            \n",
    "            # wenn wir einen Teiler finden, setzen wir die Prim-Eigenschaft auf False um\n",
    "            is_prime = False\n",
    "    \n",
    "    # nachdem jetzt alle möglichen Teiler überprüft sind, checke die Prim-Eigenschaft\n",
    "    if is_prime:\n",
    "        \n",
    "        # ist immer noch wahr, also hängen wir den Kandidaten an die Primzahl-Liste an\n",
    "        list_of_primes.append(candidate)\n",
    "        \n",
    "    # wenn die Eigenschaft false ist, passiert nichts\n",
    "    \n",
    "    # berechne die aktuelle Anzahl der Primzahlen in der Liste\n",
    "    total_number = len(list_of_primes)  \n",
    "    \n",
    "    # Erhöhe die Kandidaten-Zahl um 2 (d.h. gehe zur nächsten ungeraden Zahl)\n",
    "    candidate += 2\n",
    "\n",
    "# Gib die Primzahl-Liste aus\n",
    "print(list_of_primes)\n",
    "\n",
    "# Erzeuge eine neue Grafik\n",
    "fig2 = plt.figure()\n",
    "\n",
    "# Erzeuge ein Histogramm der ersten 1000 Primzahlen\n",
    "plt.hist(list_of_primes, bins=50)\n",
    "\n",
    "# Beschrifte die Achsen\n",
    "plt.xlabel(\"Zahlenbereich\")\n",
    "plt.ylabel(\"Anzahl\")\n",
    "\n",
    "# Zeige die Grafik an\n",
    "plt.show()\n",
    "        "
   ]
  }
 ],
 "metadata": {
  "kernelspec": {
   "display_name": "Python 3",
   "language": "python",
   "name": "python3"
  },
  "language_info": {
   "codemirror_mode": {
    "name": "ipython",
    "version": 3
   },
   "file_extension": ".py",
   "mimetype": "text/x-python",
   "name": "python",
   "nbconvert_exporter": "python",
   "pygments_lexer": "ipython3",
   "version": "3.8.5"
  }
 },
 "nbformat": 4,
 "nbformat_minor": 4
}
