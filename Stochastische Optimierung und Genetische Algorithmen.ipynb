{
 "cells": [
  {
   "cell_type": "markdown",
   "metadata": {},
   "source": [
    "# 6 Stochastische Optimierung und Genetische Algorithmen\n",
    "In diesem Notebook wollen wir uns letztlich mit <a href=\"https://de.wikipedia.org/wiki/Stochastik\" target=\"_blank\">stochastischer</a> <a href=\"https://de.wikipedia.org/wiki/Optimierung_(Mathematik)\" target=\"_blank\">Optimierung</a> und <a href=\"https://de.wikipedia.org/wiki/Evolution%C3%A4rer_Algorithmus#Genetische_Algorithmen_(GA)\" target=\"_blank\">genetischen Algorithmen</a> befassen. Wir tun das zwar hauptsächlich auf einem pragmatischen Niveau, aber auch sodass wir in der kurzen Zeit bereits etwas damit anfangen können. \n",
    "\n",
    "Zu diesem Zweck brauchen wir kurz ein paar Vorüberlegungen zu den Begriffen <a href=\"https://de.wikipedia.org/wiki/Zufallszahl\" target=\"_blank\">Zufallszahlen</a> und <a href=\"https://de.wikipedia.org/wiki/Stichprobe\" target=\"_blank\">Sampling (Stichproben)</a>, und zwar hauptsächlich, wie wir diese in <a href=\"https://www.python.org/\" target=\"_blank\">Python</a> bekommen und woher.\n",
    "\n",
    "## 6.1 Zufallszahlen\n",
    "Echte Zufallszahlen sind schwer zu erzeugen. Daher bedienen sich Computer-Nutzer sogenannter Pseudo-Zufallszahlen. Damit ist gemeint, dass man einen <a href=\"https://de.wikipedia.org/wiki/Zufallszahlengenerator\" target=\"_blank\">(Pseudo-Zufallszahlen-)Generator</a> hat, der eine bestimmte Methode verfolgt, um die gewünschte Anzahl von Zahlen so zu erzeugen, dass sie möglichst gut der gewünschten <a href=\"https://de.wikipedia.org/wiki/Wahrscheinlichkeitsma%C3%9F\" target=\"_blank\">Wahrscheinlichkeitsverteilung</a> entsprechen. Sehen wir uns das gleich einmal anhand einiger Beispiele an.\n",
    "\n",
    "Zunächst die Imports von heute:"
   ]
  },
  {
   "cell_type": "code",
   "execution_count": null,
   "metadata": {},
   "outputs": [],
   "source": [
    "%matplotlib inline\n",
    "\n",
    "import numpy as np\n",
    "\n",
    "# Importiere Statistische Package aus SciPy\n",
    "import scipy.stats as scs\n",
    "\n",
    "import matplotlib.pyplot as plt\n",
    "from mpl_toolkits.mplot3d import Axes3D\n",
    "\n",
    "from tqdm import tqdm\n"
   ]
  },
  {
   "cell_type": "markdown",
   "metadata": {},
   "source": [
    "<a href=\"https://numpy.org/\" target=\"_blank\">NumPy</a> hat ein Modul namens _random_, in dem man die wichtigsten Dinge finden kann, z.B.:"
   ]
  },
  {
   "cell_type": "code",
   "execution_count": null,
   "metadata": {},
   "outputs": [],
   "source": [
    "# Zufallszahlen zwischen 0 und 1, gleichverteilt\n",
    "\n",
    "# Fixiere den Seed, um reproduzierbare Ergebnisse zu erhalten:\n",
    "#np.random.seed(1234)\n",
    "\n",
    "# Generiere ein Feld von Zufallszahlen\n",
    "np.random.random(size=(4, 5))"
   ]
  },
  {
   "cell_type": "code",
   "execution_count": null,
   "metadata": {
    "scrolled": true
   },
   "outputs": [],
   "source": [
    "# Zufallszahlen zwischen 1 und 2\n",
    "a = 1\n",
    "b = 2\n",
    "(b - a) * np.random.random(size=(4, 5)) + a"
   ]
  },
  {
   "cell_type": "code",
   "execution_count": null,
   "metadata": {},
   "outputs": [],
   "source": [
    "# Zufallszahlen aus der Normalverteilung\n",
    "normal_values_x = np.random.normal(0., 1., size=(1000))\n",
    "normal_values_y = np.random.normal(0., 1., size=(1000))\n",
    "\n",
    "fig = plt.figure()\n",
    "\n",
    "plt.scatter(normal_values_x, normal_values_y, s=0.1)\n",
    "\n",
    "plt.show()"
   ]
  },
  {
   "cell_type": "markdown",
   "metadata": {},
   "source": [
    "Zur Erinnerung: Wir können jederzeit die Eigenschaften einer so erzeugten Verteilung überprüfen, z.B. den <a href=\"https://de.wikipedia.org/wiki/Mittelwert\" target=\"_blank\">Mittelwert</a> und die <a href=\"https://de.wikipedia.org/wiki/Varianz\" target=\"_blank\">Standardabweichung</a>, aber auch höhere Momente wie <a href=\"https://de.wikipedia.org/wiki/Schiefe_(Statistik)\" target=\"_blank\">Skewness</a> oder <a href=\"https://de.wikipedia.org/wiki/W%C3%B6lbung_(Statistik)\" target=\"_blank\">NumPy</a>Kurtosis:"
   ]
  },
  {
   "cell_type": "code",
   "execution_count": null,
   "metadata": {},
   "outputs": [],
   "source": [
    "# checke Mittelwert\n",
    "print(\"Mittelert:\", np.mean(normal_values_x))\n",
    "\n",
    "# checke Standardabweichung\n",
    "print(\"Standardabweichung:\", np.std(normal_values_x))\n",
    "\n",
    "# checke Skewness (Asymmetrie)\n",
    "print(\"Skewness:\", scs.skew(normal_values_x))\n",
    "\n",
    "# checke Kurtosis (\"Dicke der Extrembereiche im Vergleich zu Normal\")\n",
    "print(\"Kurtosis:\", scs.kurtosis(normal_values_x))\n"
   ]
  },
  {
   "cell_type": "markdown",
   "metadata": {},
   "source": [
    "## 6.2 Sampling\n",
    "Mit diesen ersten Schritten haben wir ein Gefühl für das Arbeiten mit Zufallszahlen in Python bekommen. Der nächste Schritt ist, aus einer Vorhandenen Menge von Daten eine Stichprobe zu ziehen. Man nennt diesen Schritt auch einfach _Sampling_ (vom englischen Begriff her). \n",
    "\n",
    "Zunächst sollte ich erwähnen, dass wir bereits im vorigen Abschnitt \"gesampelt\" haben, denn die entsprechenden _NumPy_-Funktionen ziehen ja auch eine Stichprobe aus der gewünschten Verteilung. Wenn es also nur darum geht, Werte aus einer der Standard-Verteilungen zu bekommen, dann benutzt man einfach den entsprechenden Befehl.\n",
    "\n",
    "Wenn wir allerdings Daten vorgegeben haben und aus diesen unsere Stichprobe ziehen wollen, dann müssen wir das den Computer aus einer bestimmten Menge (einem Array) zufällig die gewünschte Anzahl von Werten ziehen lassen. In _NumPy_ gibt es auch dafür einen Befehl."
   ]
  },
  {
   "cell_type": "code",
   "execution_count": null,
   "metadata": {},
   "outputs": [],
   "source": [
    "# Erzeuge ein einfaches Array von Daten\n",
    "all_data = np.arange(1, 20)\n",
    "\n",
    "# hole mir eine zufällige 3x5 Matrix von Werten aus diesem Array von 1 bis 20\n",
    "np.random.choice(all_data, size=(3, 5))\n"
   ]
  },
  {
   "cell_type": "code",
   "execution_count": null,
   "metadata": {},
   "outputs": [],
   "source": [
    "# hier kommen einige Zahlen mehrfach vor. Wenn man das nicht möchte:\n",
    "np.random.choice(all_data, size=(17), replace=False)"
   ]
  },
  {
   "cell_type": "code",
   "execution_count": null,
   "metadata": {},
   "outputs": [],
   "source": [
    "# und schließlich kann man noch ein Array mit Wahrscheinlichkeiten\n",
    "# übergeben, nach der die Elemente bestimmt werden sollen\n",
    "\n",
    "# Beispiel: Ein Würfel mit den Augenzahlen 1, 1, 1, 2, 2, 3\n",
    "# zunächst die Möglichkeiten für die Augen\n",
    "die_faces = np.array([1, 2, 3])\n",
    "\n",
    "# Dann die relativen Häufigkeiten\n",
    "die_probs_raw = np.array([3, 2, 1])\n",
    "\n",
    "# das Argument p muss jedoch auf 1 normiert sein\n",
    "die_probs = die_probs_raw/np.sum(die_probs_raw)\n",
    "\n",
    "print(\"Wahrscheinlichkeiten für 1, 2, 3:\", die_probs, \"\\n\")\n",
    "\n",
    "# Erzeuge nun einige Würfe mit diesem Würfel\n",
    "n_rolls = 300\n",
    "die_rolls = np.random.choice(die_faces, size=n_rolls, p=die_probs)\n",
    "\n",
    "print(\"Ein paar Würfe:\", die_rolls)"
   ]
  },
  {
   "cell_type": "code",
   "execution_count": null,
   "metadata": {},
   "outputs": [],
   "source": [
    "# Passt das zusammen?\n",
    "\n",
    "# Was sollten die Ergebnisse sein?\n",
    "print(\"Theoretische Anzahl:\", n_rolls * die_probs)\n",
    "\n",
    "fig = plt.figure()\n",
    "\n",
    "plt.hist(die_rolls, bins=[1,2,3,4])\n",
    "\n",
    "plt.show()"
   ]
  },
  {
   "cell_type": "markdown",
   "metadata": {},
   "source": [
    "## 6.3 Stochastische Optimierung\n",
    "Mit diesen Werkzeugen können wir uns an die stochastische Optimierung wagen. Was bedeutet das eigentlich? Wir hatten in der vorigen Einheit mit Optimierung zu tun, ganz im Allgemeinen. Dabei sucht man grundsätzlich das Optimum einer Funktion von meist mehreren Variablen.\n",
    "\n",
    "Die Methoden, die wir dabei besprochen haben waren zunächst einmal \"brute force\", also alle Möglichkeiten durchzugehen und die beste über einen globalen Vergleich zu identifizieren. Danach haben wir aber auch noch mit \"Gradient Descent\" experimentiert, bei dem man die Ableitung der Funktion nutzt, um schrittweise an den tiefsten Punkt zu kommen. \n",
    "\n",
    "Ein konkretes Problem bei Gradient Descent z.B. ist, dass man in einem lokalen Minimum \"steckenbleiben\" kann, wenn der Weg dort hinein führt und die Schrittweite zu klein ist, um wieder herauszukommen, obwohl das globale Minimum ein anderes ist. Man kann sich das so vorstellen wie eine riesige Berg- und Tal-Landschaft mit vielen Tälern, Mulden, Gipfeln, Bergrücken, Löchern, etc., und irgendeins davon ist der niedrigste Punkt. Insbesondere wenn diese Landschaft in hochdimensionalen Räumen betrachtet wird, leuchtet ein, dass man es mit Gradient Descent vielleicht schwer haben könnte.\n",
    "\n",
    "Das hat vor allem auch damit zu tun, dass man diese Funktions-\"Landschaft\" gar nicht wirklich kennt, weil man entweder keine Ahnung hat, wie die Funktion überhaupt aussieht, oder weil es sehr teuer ist, die Funktion zu berechnen. Vor allem in so einem Fall hilft es, wenn man sich nicht die gesamte Landschaft ansehen muss, sondern Schritt für Schritt mit sehr wenigen Werten zu einer Lösung kommen kann.\n",
    "\n",
    "Eine mögliche Alternative hier ist, einfach viele zufällige Werte aus dem Wertebereich zu nehmen (aber längst nicht alle, also ein Sample), und für diese Werte den Wert der Funktion zu bestimmen. Der kleinste davon ist dann eine Näherung für das Minimum. Im folgenden Beispiel ist aus Gründen der Anschaulichkeit die Funktion bekannt, sodass wir sie auch plotten können und uns den Algorithmus etwas ansehen können. Behalten Sie aber bitte im Kopf, dass wir das im Normalfall nicht hätten, sondern einfach nur die Samples, für die wir die Funktion berechnen. Sehen wir uns gleich einmal an, ob sowas funktioniert:"
   ]
  },
  {
   "cell_type": "code",
   "execution_count": null,
   "metadata": {},
   "outputs": [],
   "source": [
    "# definiere eine Funktion für die Suche nach deren Minimum\n",
    "def a_landscape(x, y):\n",
    "    # mehrere Täler und Berge, mit einer globalen Neigung\n",
    "    our_function = 4*np.sin(x) + 6*np.sin(y) - 0.5 * x - 0.2 * y\n",
    "\n",
    "    return our_function\n",
    "\n",
    "        \n",
    "# plotten wir das mal\n",
    "\n",
    "# definiere x-Werte\n",
    "x_vals = np.linspace(-10, 10, 500)\n",
    "\n",
    "# definiere y-Werte\n",
    "y_vals = np.linspace(-10, 10, 500)\n",
    "\n",
    "# erzeuge x-y-Grid für 3D Plots\n",
    "X, Y = np.meshgrid(x_vals, y_vals)\n",
    "\n",
    "Z = a_landscape(X, Y)\n",
    "\n",
    "# neue Grafik\n",
    "fig = plt.figure()\n",
    "\n",
    "# 3D Achsen erzeugen\n",
    "ax = fig.add_subplot(1,1,1, projection='3d')\n",
    "\n",
    "# erzeuge 3D-Oberflächenplot\n",
    "ax.plot_surface(X, Y, Z, cmap=\"magma\")\n",
    "\n",
    "plt.show()"
   ]
  },
  {
   "cell_type": "code",
   "execution_count": null,
   "metadata": {},
   "outputs": [],
   "source": [
    "# für Reproduzierbarkeit die nächste Zeile verwenden\n",
    "# np.random.seed(12345)\n",
    "\n",
    "sample_size = 100\n",
    "\n",
    "# nun wählen wir einen Satz Werte zufällig aus unserem Bereich:\n",
    "# Wertebereich für x und y\n",
    "a = -10\n",
    "b =  10\n",
    "\n",
    "\n",
    "def evaluate_a_sample(size=sample_size, verbose=False):\n",
    "    # ziehe eine Stichprobe von 2xSamplesize (für x und y)\n",
    "    test_sample = (b - a) * np.random.random(size=(2, sample_size)) + a\n",
    "\n",
    "    # Werte die Funktion an diesen Punkten aus\n",
    "    sample_values = a_landscape(*test_sample)  \n",
    "\n",
    "    if verbose: print(\"Alle Funktionswerte des Samples:\\n\", sample_values)\n",
    "\n",
    "    the_minimum = np.min(sample_values)\n",
    "\n",
    "    if verbose: print(\"Der kleinste Wert im Sample:\", the_minimum)\n",
    "    \n",
    "    return the_minimum\n",
    "\n",
    "evaluate_a_sample(100, verbose=True)"
   ]
  },
  {
   "cell_type": "code",
   "execution_count": null,
   "metadata": {
    "scrolled": false
   },
   "outputs": [],
   "source": [
    "# Anzahl der Samples\n",
    "n_samples = 200\n",
    "\n",
    "# Eine Liste mit Resultaten anlegen\n",
    "min_list = []\n",
    "\n",
    "# Mache die Auswertung für einige Samples\n",
    "for i in range(n_samples):\n",
    "    min_list.append(evaluate_a_sample(100))\n",
    "    \n",
    "\n",
    "print(\"Liste der Minima:\", min_list, \"\\n\")\n",
    "\n",
    "print(\"Minimum der Minima:\", np.min(min_list))\n",
    "    \n",
    "fig = plt.figure()\n",
    "\n",
    "plt.hist(min_list)\n",
    "\n",
    "plt.show()"
   ]
  },
  {
   "cell_type": "markdown",
   "metadata": {},
   "source": [
    "Letzten Endes wird man die Sache aber etwas cleverer angehen als wir hier in diesem Beispiel und z.B. bei jedem neuen Sample die Position des Minimums (oder der 10 kleinsten Werte) aus dem vergangenen Sample als Basis dafür hernehmen, wo die Punkte des neuen Samples konzentriert werden sollten. Dadurch konzentriert man die Suche auf interessante Bereiche.\n",
    "\n",
    "Diese Taktik geht bereits in Richtung des nächsten Themas und ist daher eine gute Überleitung, nämlich:\n",
    "\n",
    "\n",
    "## 6.4 Genetische Algorithmen\n",
    "Ein genetischer Algorithmus ist eine Taktik zur stochastischen Optimierung, d.h., zum Finden der optimalen Parameter für eine Funktion, sodass diese minimal oder maximal wird. Die Basis für die \"Genetik\" bei der Optimierung ist eine Art <a href=\"https://de.wikipedia.org/wiki/Code\" target=\"_blank\">Codierung</a> des Inputs, z.B. ein Vektor von Zahlen. Aus diesem Vektor wird dann der Wert der zu optimierenden Funktion berechnet, die in diesem Zusammenhang \"Fitnessfunktion\" heißt.\n",
    "\n",
    "Bei der Optimierung selbst geht man über mehere Schritte, die mit \"Generationen\" verglichen werden, weil sie mehrere \"Individuen\" dieser Vektoren enthalten. Von einer Generation zur nächsten gibt eine Auswahl der \"fittesten\" Individuen, genannt \"Eltern\", ihre \"Erbinformation\" weiter. Dadurch entstehen im Laufe der Generationen immer fittere Individuen, d.h. wir nähern uns dem Optimum der Fitnessfunktion. \n",
    "\n",
    "## 6.5 Beispiel: Das binäre Rucksackproblem\n",
    "\n",
    "Warum ist das interessant? Nehmen wir z.B. ein kombinatorisches Optimierungsproblem etwas genauer unter die Lupe, das als <a href=\"https://de.wikipedia.org/wiki/Rucksackproblem\" target=\"_blank\">\"binäres Rucksackproblem\"</a> bezeichnet wird. Denken Sie dabei etwa an einen Fahrradboten. Dieser hat einen Rucksack für den Transport von Gütern, die er ausliefert. Jedes Ding, das er liefern kann, hat dabei ein Gewicht und einen Preis. Der Bote packt für eine Fahrt den Rucksack voll mit Dingen, sodass der gesamte Preis möglichst hoch wird, das gesamte Gewicht jedoch die Kapazität des Rucksacks nicht überschreitet. Dabei darf er jedes Ding entweder nicht mitnehmen oder genau einmal mitnehmen (daher binär).\n",
    "\n",
    "Dieses Problem ist, wie gesagt, <a href=\"https://de.wikipedia.org/wiki/Kombinatorik\" target=\"_blank\">kombinatorisch</a>. Man kann, um es zu lösen, im Prinzip auch per \"brute force\" alle Möglichkeiten durchgehen und dafür das Maximum der aufsummierten Preise finden. Das wird allerdings sehr schnell sehr langwierig. Bei der Abkürzung der Zeit für die Lösung hilft der genetische Algorithmus.\n",
    "\n",
    "Sehen wir uns das nun im Detail an."
   ]
  },
  {
   "cell_type": "code",
   "execution_count": null,
   "metadata": {},
   "outputs": [],
   "source": [
    "# Tabelle der Anzahl der Möglichkeiten, Dinge \n",
    "# in den Rucksack zu packen, wenn es _N_ zur Auswahl gibt\n",
    "for n in np.arange(1, 62, 5):\n",
    "    # für jedes Ding gibt es 2 Möglichkeiten (mit, nicht mit)\n",
    "    # daher insgesamt 2**n\n",
    "    print(n, \"->\", 2**n)"
   ]
  },
  {
   "cell_type": "code",
   "execution_count": null,
   "metadata": {},
   "outputs": [],
   "source": [
    "# wie lange dauert sowas ca.? \n",
    "# nehmen wir eine Mikrosekunde für eine Kombination an\n",
    "2**61 * 1.e-6 / 3600 / 24 / 365   # hier sollten Jahre herauskommen"
   ]
  },
  {
   "cell_type": "markdown",
   "metadata": {},
   "source": [
    "Nun ist soweit klar, dass es mit der Zeit relativ schnell knapp wird. Wie löst man so ein Problem aber jetzt konkret mit einem genetischen Algorithmus? Wir brauchen folgendes.\n",
    "\n",
    "* Ein Encoding der \"genetischen Information\" für jedes Individuum einer Generation/Population (also hier für jede Kombination von Dingen, die eingepackt werden)\n",
    "* Einen Mechanismus, der uns die erste Generation von Individuen erzeugt\n",
    "* Einen Mechanismus (oder mehrere), der den genetischen Code von Individuen von einer zur nächsten Generation verändern kann\n",
    "* Eine Vorschrift, mit der die Fitness jedes Individuums berechnet werden kann\n",
    "* Eine Vorschrift dafür, welche und wie viele der fittesten Individuen einer Generation zu Eltern für die nächste Generation werden\n",
    "\n",
    "Wir brauchen natürlich auch die Basis für dieses Problem, nämlich die Liste mit den Dingen, ihren Gewichten und Preisen, sowie das Gewichtslimit für den Rucksack. Aber dann kann es schon losgehen. Also legen wir los."
   ]
  },
  {
   "cell_type": "code",
   "execution_count": null,
   "metadata": {},
   "outputs": [],
   "source": [
    "# Setze das Limit für den Rucksack\n",
    "weight_limit = 15\n",
    "\n",
    "# Setze N\n",
    "num_items = 20\n",
    "\n",
    "# Erzeugen der Liste der Dinge mit Gewichten und Preisen\n",
    "item_weights = np.round((3.5 - 0.2) * np.random.random(size=num_items) + 0.2, 2)\n",
    "item_prices  = np.round((30. - 0.1) * np.random.random(size=num_items) + 0.1, 2)"
   ]
  },
  {
   "cell_type": "code",
   "execution_count": null,
   "metadata": {},
   "outputs": [],
   "source": [
    "# was ist zum Beispiel mit Ding nummer 5?\n",
    "(item_weights[4], item_prices[4])"
   ]
  },
  {
   "cell_type": "code",
   "execution_count": null,
   "metadata": {},
   "outputs": [],
   "source": [
    "# Das Encoding für eine Variante des Einpackens \n",
    "# ist ein Vektor mit _N_ Zahlen, die entweder 1 oder 0 sein können\n",
    "test_encoding = np.random.choice([0, 1], size=num_items, replace=True)\n",
    "test_encoding\n"
   ]
  },
  {
   "cell_type": "code",
   "execution_count": null,
   "metadata": {},
   "outputs": [],
   "source": [
    "# Damit kann man leicht das Gewicht für eine Variante ausrechnen\n",
    "the_weight = np.sum(item_weights * test_encoding)\n",
    "the_weight"
   ]
  },
  {
   "cell_type": "code",
   "execution_count": null,
   "metadata": {},
   "outputs": [],
   "source": [
    "# Ebenso funktioniert der Gesamtpreis\n",
    "the_price = np.sum(item_prices * test_encoding)\n",
    "the_price"
   ]
  },
  {
   "cell_type": "code",
   "execution_count": null,
   "metadata": {},
   "outputs": [],
   "source": [
    "# Testen wir nun einmal kurz die brute-force-Lösung\n",
    "# D.h. wir gehen durch alle Möglichkeiten und suchen die beste raus\n",
    "\n",
    "# Zunächst definieren wir aber die Fitness-Funktion:\n",
    "# wir schreiben diese Funktion so, dass sie mehrere Encodings\n",
    "# gleichzeitig abarbeiten kann\n",
    "def fitness(encodings):\n",
    "    # berechne Gewicht und Preis\n",
    "    the_weights = np.sum(item_weights * encodings, axis=1)\n",
    "    the_prices = np.sum(item_prices * encodings, axis=1)\n",
    "    \n",
    "    # testen, ob das Gewicht in den Rucksack passt\n",
    "    the_prices = np.where(the_weights <= weight_limit * np.ones(len(encodings)), \n",
    "                          # ja, passt, die Fitness ist der Preis\n",
    "                          the_prices,  \n",
    "                          # nein, passt nicht, die Fitness wird auf 0 gesetzt\n",
    "                          np.zeros(len(encodings))\n",
    "                         )\n",
    "    \n",
    "    return the_prices, the_weights\n"
   ]
  },
  {
   "cell_type": "code",
   "execution_count": null,
   "metadata": {},
   "outputs": [],
   "source": [
    "# Nun zum Ausprobieren aller Möglichkeiten:\n",
    "\n",
    "# setze Wert für besten Preis an\n",
    "best_price = 0.\n",
    "\n",
    "# setze Wert für bestes Encoding an\n",
    "best_encoding = np.zeros(num_items)\n",
    "\n",
    "# setze Wert für Gewicht zum besten Preis an\n",
    "best_weight = 0.\n",
    "\n",
    "# loop über alle natürlichen Zahlen bis 2**N\n",
    "for counter in tqdm(np.arange(0, 2**num_items, 1)):\n",
    "    \n",
    "    # generiere binäre Darstellung des Zählers (als String) und ergänze führende Nullen\n",
    "    counter_binary = np.binary_repr(counter).zfill(num_items)\n",
    "    \n",
    "    # verwandle den String in ein numpy-Array mit 0en und 1en\n",
    "    current_encoding = np.array([int(a_letter) for a_letter in counter_binary])\n",
    "        \n",
    "    # berechne den Preis (inklusive Gewichtscheck) über die Fitness-Funktion\n",
    "    the_price, the_weight = fitness([current_encoding])\n",
    "    \n",
    "    # Abfrage, ob wir eine bessere Lösung gefunden haben als bisher\n",
    "    if the_price > best_price:\n",
    "        \n",
    "        # ersetze Bestwerte für Preis, Encoding und Gewicht\n",
    "        best_price    = the_price\n",
    "        best_encoding = current_encoding\n",
    "        best_weight   = the_weight\n",
    "        \n",
    "        \n",
    "print(\"The best price is\", best_price)\n",
    "print(\"at a weight of\", best_weight)\n",
    "print(\"The best encoding is\\n\", best_encoding)\n",
    "    "
   ]
  },
  {
   "cell_type": "code",
   "execution_count": null,
   "metadata": {
    "scrolled": false
   },
   "outputs": [],
   "source": [
    "# Nun zum genetischen Algorithmus\n",
    "\n",
    "# definiere Anzahl der Eltern\n",
    "num_parents = 20\n",
    "\n",
    "# definiere Anzahl Kinder pro Elternpaar\n",
    "num_c_p_p = 3\n",
    "\n",
    "# definiere Anzahl der Individuen in einer Generation\n",
    "# entspricht dem Quadrat der Anzahl der Eltern \n",
    "# (wegen der Möglichkeiten von Crossovers)\n",
    "generation_size = num_c_p_p * num_parents**2\n",
    "\n",
    "# definiere maximale Anzahl der Generationen\n",
    "max_generations = 10\n",
    "\n",
    "# definiere Crossover von zwei Encodings, d.h. rekombiniere die beiden\n",
    "# an einer zufällig gewählten Stelle\n",
    "def crossover(encoding_1, encoding_2):\n",
    "    \n",
    "    # wähle eine zufällige Stelle aus der Länge der Encodings\n",
    "    cut_position = np.random.choice(range(num_items))\n",
    "    \n",
    "    # rekombiniere die beiden Arrays zu einem mit Schnitt an dieser Stelle\n",
    "    new_encoding = np.hstack((encoding_1[:cut_position], encoding_2[cut_position:]))\n",
    "    \n",
    "    return new_encoding\n",
    "\n",
    "# erzeuge Generation 0\n",
    "next_generation = np.random.choice([0, 1], size=(generation_size, num_items), replace=True)\n",
    "\n",
    "# Loop über die Generationen\n",
    "for count_generations in range(max_generations):\n",
    "    \n",
    "    # print(next_generation)\n",
    "    \n",
    "    # bestimme die Fitness aller Individuen in dieser Generation\n",
    "    the_prices, the_weights = fitness(next_generation)\n",
    "    \n",
    "    # print(the_prices)\n",
    "    \n",
    "    # bestimme Reihenfolge der Indizes nach Fitness der Individuen\n",
    "    the_ranking = np.argsort(the_prices)[::-1]\n",
    "    \n",
    "    # print(the_ranking)\n",
    "        \n",
    "    # suche die nächsten Eltern aus den besten aus\n",
    "    the_parents = (next_generation[the_ranking])[:num_parents]\n",
    "    \n",
    "    # baue die nachfolgende Generation aus den Eltern plus \n",
    "    # num_parents x num_parents \"Kindern\" zusammen\n",
    "    the_children = []\n",
    "    \n",
    "    # erzeuge Kinder durch Crossover, d.h. Kombination der genetischen\n",
    "    # Codes der beiden Eltern an einer bestimmten Stelle\n",
    "    # Erster Loop über alle Eltern\n",
    "    for parent_1 in the_parents:\n",
    "        \n",
    "        # Zweiter Loop über alle Eltern\n",
    "        for parent_2 in the_parents:\n",
    "            \n",
    "            # Zusätzlicher Loop über die Anzahl der Kinder pro Elternpaar\n",
    "            for child_counter in range(num_c_p_p):\n",
    "                \n",
    "                # hänge alle möglichen Crossovers in eine Liste zusammen\n",
    "                the_children.append(crossover(parent_1, parent_2))\n",
    "    \n",
    "    # mache aus der Liste ein Array\n",
    "    next_generation = np.array(the_children)\n",
    "    \n",
    "    # hier sind auch die Eltern wieder dabei, weil ein Crossover eines Encodings\n",
    "    # mit sich selbst das gleiche Encoding nochmals erzeugt\n",
    "    \n",
    "    \n",
    "    # print(\"parents\", the_parents)\n",
    "    # print(\"children\", the_children)\n",
    "    # print(\"new gen.\", next_generation)\n",
    "    \n",
    "    \n",
    "    # Output für diese Generation\n",
    "    print(\"Gen.:\", count_generations, \"Beste Fitness:\", np.round(np.max(the_prices), 2),\n",
    "          \"mit Gewicht \", np.round(the_weights[the_ranking[0]], 2), \"bestes Encoding:\", the_parents[0])\n",
    "        \n"
   ]
  },
  {
   "cell_type": "markdown",
   "metadata": {},
   "source": [
    "## 6.6 Übungsaufgabe: Pushen Sie das Rucksackproblem an die Grenzen\n",
    "Nehmen Sie den Code von eben und experimentieren Sie damit. Sie könnten z.B. damit folgendes tun:\n",
    "\n",
    "* Verändern Sie die Anzahl der Eltern (und damit auch die Generationsgröße) und prüfen Sie, ob die Lösung dadurch näher an die brute-force-Lösung herankommt\n",
    "* Verändern Sie die Anzahl der Kinder pro Elternpaar und überprüfen Sie den Effekt\n",
    "* Verändern Sie das Limit für den Rucksack\n",
    "* Verändern Sie die Limits für die Preise und Gewichte\n",
    "* Finden Sie heraus, wie weit Sie $N$ auf Ihrem Rechner ohne Probleme nach oben schrauben können\n",
    "* Implementieren Sie ein Timing für Teile eines Runs und den gesamten Run\n",
    "* Visualisieren Sie die Entwicklung des Timings mit $N$\n"
   ]
  },
  {
   "cell_type": "code",
   "execution_count": null,
   "metadata": {},
   "outputs": [],
   "source": []
  }
 ],
 "metadata": {
  "kernelspec": {
   "display_name": "Python 3",
   "language": "python",
   "name": "python3"
  },
  "language_info": {
   "codemirror_mode": {
    "name": "ipython",
    "version": 3
   },
   "file_extension": ".py",
   "mimetype": "text/x-python",
   "name": "python",
   "nbconvert_exporter": "python",
   "pygments_lexer": "ipython3",
   "version": "3.8.5"
  }
 },
 "nbformat": 4,
 "nbformat_minor": 4
}
