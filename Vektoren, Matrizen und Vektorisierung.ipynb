{
 "cells": [
  {
   "cell_type": "markdown",
   "metadata": {},
   "source": [
    "# 3. Vektoren, Matrizen und Vektorisierung in Python\n",
    "In dieser Einheit werden wir uns einerseits einige Werkzeuge für das Rechnen mit <a href=\"https://de.wikipedia.org/wiki/Vektor\" target=\"_blank\">Vektoren</a> und <a href=\"https://de.wikipedia.org/wiki/Matrix_(Mathematik)\" target=\"_blank\">Matrizen</a> in <a href=\"https://www.python.org/\" target=\"_blank\">Python</a> ansehen. Andererseits möchte ich Ihnen das Prinzip der <a href=\"https://www.geeksforgeeks.org/vectorized-operations-in-numpy/\" target=\"_blank\">Vektorisierung</a> klar machen (und nahelegen).\n",
    "\n",
    "Hier zunächst die Imports für heute:"
   ]
  },
  {
   "cell_type": "code",
   "execution_count": null,
   "metadata": {},
   "outputs": [],
   "source": [
    "%matplotlib inline\n",
    "import matplotlib.pyplot as plt # für plotting, wie gewohnt\n",
    "from matplotlib import image    # zum Einlesen und arbeiten mit Bilddateien\n",
    "\n",
    "import numpy as np              # für numerische Aktionen mit Arrays, wie gewohnt\n",
    "\n",
    "from tqdm import tqdm           # zum Erzeugen eines Fortschrittsbalkens\n",
    "\n",
    "import os                       # Funktionen zum OS"
   ]
  },
  {
   "cell_type": "markdown",
   "metadata": {},
   "source": [
    "## 3.1 Vektoren\n",
    "Vektoren sind uns allen soweit bekannt (zumindest sollen sie das sein). In diesem Abschnitt geht es daher in erster Linie darum, wie Sie bestimmte gewohnte Dinge mit Vektoren tun können. Wir verwenden hier grundsätzlich die Package <a href=\"https://numpy.org\" target=\"_blank\">NumPy</a>."
   ]
  },
  {
   "cell_type": "code",
   "execution_count": null,
   "metadata": {},
   "outputs": [],
   "source": [
    "# Ein Vektor ist in Python im Prinzip ein 1D-Array\n",
    "a_vector = np.array([2, 3, -1])\n",
    "\n",
    "# Zwei Vektoren lassen sich recht einfach addieren und subtrahieren\n",
    "another_vector = np.array([4, -2, 1])\n",
    "\n",
    "print(\"Die Summe: \", a_vector + another_vector)\n",
    "\n",
    "print(\"Die Differenz: \", a_vector - another_vector)\n",
    "\n",
    "print(\"Das punktweise Produkt: \", a_vector * another_vector)\n",
    "\n",
    "print(\"Der punktweise Quotient: \", a_vector / another_vector)\n",
    "\n",
    "print(\"Punktweises Potenzieren: \", a_vector.astype(float) ** another_vector)\n"
   ]
  },
  {
   "cell_type": "markdown",
   "metadata": {},
   "source": [
    "Was ist aber mit dem <a href=\"https://de.wikipedia.org/wiki/Skalarprodukt\" target=\"_blank\">Skalar-Produkt</a> $\\vec{a}\\cdot\\vec{b}$ oder dem <a href=\"https://de.wikipedia.org/wiki/Kreuzprodukt\" target=\"_blank\">Kreuz-Produkt</a> $\\vec{a}\\times\\vec{b}$? Eine Möglichkeit ist es, _NumPy_ Funktionen dafür zu verwenden und die entsprechenden Ausdrücke zu basteln. Oder, man bedient sich fertiger Funktionen, die ebenfalls in _NumPy_ zu finden sind."
   ]
  },
  {
   "cell_type": "code",
   "execution_count": null,
   "metadata": {},
   "outputs": [],
   "source": [
    "# bastel-Variante für das Skalarprodukt\n",
    "print(np.sum(a_vector * another_vector))\n",
    "\n",
    "# built-in-Variante für das Skalarprodukt\n",
    "print(np.dot(a_vector, another_vector))\n",
    "\n",
    "# built-in-Variante für das Kreuzprodukt\n",
    "print(np.cross(a_vector, another_vector))"
   ]
  },
  {
   "cell_type": "markdown",
   "metadata": {},
   "source": [
    "## 3.2 Matrizen und Lineare Algebra\n",
    "Matrizen sind in Python im Prinzip 2-dimensionale <a href=\"https://de.wikipedia.org/wiki/Kreuzprodukt\" target=\"_blank\">Arrays</a>. Man gibt einem _NumPy_-Array einen Zeilen- und einen Spalten-Index und kann damit dann verschiedene Dinge tun (das meiste davon geht natürlich auch schon in einer Dimension, ist aber in 2D anschaulicher), z.B.:\n",
    "\n",
    "* Die Matrix <a href=\"https://de.wikipedia.org/wiki/Transponierte_Matrix\" target=\"_blank\">transponieren</a>\n",
    "* Einen Teil der Matrix herausschneiden\n",
    "* Elemente an einer bestimmten Position verändern, hinzufügen, löschen\n",
    "* Matrizen miteinander (also auch mit Vektoren) multiplizieren\n",
    "* Eigenschaften der Matrix berechnen, wie z.B. die <a href=\"https://de.wikipedia.org/wiki/Determinante\" target=\"_blank\">Determinante</a>, den <a href=\"https://de.wikipedia.org/wiki/Rang_(Mathematik)\" target=\"_blank\">Rang</a>, etc.\n",
    "* Operationen aus der <a href=\"https://de.wikipedia.org/wiki/Lineare_Algebra\" target=\"_blank\">Linearen Algebra</a> ausführen, wie z.B. <a href=\"https://de.wikipedia.org/wiki/Eigenwertproblem\" target=\"_blank\">Eigenwerte</a> bestimmen\n",
    "\n",
    "Hier eine Auswahl der Dinge auf dieser Liste:"
   ]
  },
  {
   "cell_type": "code",
   "execution_count": null,
   "metadata": {},
   "outputs": [],
   "source": [
    "# definiere eine Matrix\n",
    "a_matrix = np.array([[2, 3, 5, -3], [1, 3, -1, 4], [1, 2, -3, 2], [3, 4, -2, 1]])\n",
    "a_matrix"
   ]
  },
  {
   "cell_type": "code",
   "execution_count": null,
   "metadata": {},
   "outputs": [],
   "source": [
    "# verschiedene Slices/Teile\n",
    "print(\"Erste Zeile: \", a_matrix[0, :])\n",
    "\n",
    "print(\"Erste Spalte: \", a_matrix[:, 0])\n",
    "\n",
    "print(\"Letzte Zeile: \", a_matrix[-1, :])\n",
    "\n",
    "print(\"Letzte Spalte: \", a_matrix[:, -1])\n",
    "\n",
    "print(\"Element links oben: \", a_matrix[0, 0])\n",
    "\n",
    "print(\"Element an bestimmter Position: \", a_matrix[2, 3])\n",
    "\n",
    "print(\"Elemente im Viereck innen: \\n\", a_matrix[1:3, 1:3])\n",
    "\n",
    "print(\"Jedes 2. Element der 2. Zeile: \", a_matrix[1, ::2])\n",
    "\n",
    "print(\"Dritte Spalte, von unten nach oben: \", a_matrix[::-1, 2])\n"
   ]
  },
  {
   "cell_type": "code",
   "execution_count": null,
   "metadata": {},
   "outputs": [],
   "source": [
    "# transponierte Matrix\n",
    "np.transpose(a_matrix)"
   ]
  },
  {
   "cell_type": "code",
   "execution_count": null,
   "metadata": {},
   "outputs": [],
   "source": [
    "# Elemente verändern\n",
    "a_changed_matrix = a_matrix\n",
    "\n",
    "a_changed_matrix[0, 1] = -4\n",
    "second_row = a_changed_matrix[1]\n",
    "\n",
    "print(\"Matrix geändert auf \\n\", a_changed_matrix)\n",
    "print(\"Die zweite Zeile: \", second_row)\n",
    "\n",
    "# ein Element an bestimmter Stelle in bestimmter Richtung herauslöschen\n",
    "a_changed_matrix = np.delete(a_changed_matrix, 1, axis=0)\n",
    "\n",
    "print(\"Zweite Zeile wurde gelöscht: \\n\", a_changed_matrix)\n",
    "\n",
    "# Die gelöschte Zeile wieder einfügen\n",
    "a_changed_matrix = np.insert(a_changed_matrix, 1, second_row, axis=0)\n",
    "\n",
    "print(\"Zweite Zeile wieder eingefügt: \\n\", a_changed_matrix)\n",
    "\n",
    "# eine Zeile anhängen\n",
    "a_changed_matrix = np.append(a_changed_matrix, [second_row], axis=0)\n",
    "\n",
    "print(\"Zweite Zeile nochmal angehängt: \\n\", a_changed_matrix)\n",
    "\n",
    "# zwei Arrays kombinieren\n",
    "a_changed_matrix = np.concatenate((a_changed_matrix, a_changed_matrix), axis=1) # versuche auch axis=0\n",
    "\n",
    "print(\"Die veränderte Matrix, kombiniert mit sich selbst: \\n\", a_changed_matrix)\n",
    "\n",
    "# und, wichtig: Die Dimensionen der Matrix verändern (also das Array verformen)\n",
    "a_changed_matrix = np.reshape(a_changed_matrix, (2, -1))\n",
    "\n",
    "print(\"zwei Zeilen und wie viele Spalten? \\n\", a_changed_matrix)"
   ]
  },
  {
   "cell_type": "code",
   "execution_count": null,
   "metadata": {},
   "outputs": [],
   "source": [
    "# zwei Matrizen miteinander multiplizieren\n",
    "a_matrix_squared = np.matmul(a_matrix, a_matrix)\n",
    "a_matrix_squared"
   ]
  },
  {
   "cell_type": "code",
   "execution_count": null,
   "metadata": {},
   "outputs": [],
   "source": [
    "# Ein paar Dinge aus der Linearen Algebra\n",
    "\n",
    "print(\"Rang der Matrix \", np.linalg.matrix_rank(a_matrix))\n",
    "\n",
    "print(\"Determinante der Matrix \", np.linalg.det(a_matrix))\n",
    "\n",
    "print(\"Eigensystem der Matrix: \")\n",
    "print(\"Eigenwerte der Matrix: \", np.linalg.eig(a_matrix)[0])\n",
    "print(\"Eigenvektoren der Matrix: \\n\", np.linalg.eig(a_matrix)[1])\n"
   ]
  },
  {
   "cell_type": "markdown",
   "metadata": {},
   "source": [
    "## 3.3 Beispiel: Lineare Regression\n",
    "Um auch etwas konkret Sinnvolles mit Matrizen zu machen, greifen wir kurz auf die Optimierungsmethode der <a href=\"https://de.wikipedia.org/wiki/Lineare_Regression\" target=\"_blank\">linearen Regression</a> vor. Keine Sorge, wir sehen uns das später noch im Detail an. Einstweilen hier einmal nur der letzte Schritt der Anwendung.\n",
    "\n",
    "Zunächst aber die wichtigsten Punkte: Die Lineare Regression leistet folgendes:\n",
    "\n",
    "* Man hat einen Datensatz, bei dem es eine bis mehrere (insgesamt $N$) unabhängige Variablen $x_i$ und eine abhängige Variable $y$ gibt.\n",
    "* Man möchte die Daten beschreiben, und zwar mit einer Funktion $f(x_i)$.\n",
    "* Bei der _Linearen_ Regression setzt man diese Funktion _linear_ an, also $f(x_i)=\\sum_{i=0}^N a_i x_i$\n",
    "* Nimmt man dabei $x_0=1$ an, dann hat man den konstanten Term $a_0$ im Fit mit dabei.\n",
    "* Nun hat man einen Datensatz von $M$ Datenvektoren $\\vec{x}^{(j)}$ zur Verfügung, also $j=1,\\ldots,M$\n",
    "* Die Koeffizienten $a_i$ bestimmt man so, dass die Summe der Quadrate der Differenzen zwischen den $y^{(j)}$ und den $f(x_i)^{(j)}$ minimal ist (<a href=\"https://de.wikipedia.org/wiki/LMS-Algorithmus\" target=\"_blank\">least-mean-squares</a> fit).\n",
    "\n",
    "Das sieht auf den ersten Blick verwirrend aus, aber worum es sich hier handelt, ist im Allgemeinen ein überbestimmtes <a href=\"https://de.wikipedia.org/wiki/Lineares_Gleichungssystem\" target=\"_blank\">System von linearen Gleichungen</a>. Wir werden es uns außerdem anschaulich und leicht machen und nehmen eine einzige unabhängige <a href=\"https://de.wikipedia.org/wiki/Variable_(Mathematik)\" target=\"_blank\">Variable</a> $x_1=x$ und die Konstante über $x_0=1$ mit. "
   ]
  },
  {
   "cell_type": "code",
   "execution_count": null,
   "metadata": {},
   "outputs": [],
   "source": [
    "# generieren wir erst einmal Daten\n",
    "x_values = np.linspace(0, 10, 200)\n",
    "fake_data = 0.5 * x_values + np.random.normal(size=len(x_values))\n",
    "\n",
    "fig = plt.figure()\n",
    "\n",
    "plt.scatter(x_values, fake_data, c=\"r\", marker=\"x\")\n",
    "\n",
    "plt.show()"
   ]
  },
  {
   "cell_type": "markdown",
   "metadata": {},
   "source": [
    "Hierfür sollen wir nun den besten linearen Fit finden. Dafür gibt es zwar auch iterative Algorithmen wie <a href=\"https://theoreticalphysics.eu/grundlagen-der-optimierung-und-gradient-descent/\" target=\"_blank\">gradient descent</a>, aber wir werden hier eine geschlossene Formel für die Lineare Regression verwenden. \n",
    "\n",
    "Dabei schreibt man den Parameter-Vektor der $a_i$ als $\\vec{a}$, den Vektor der Funktionswerte $y^{(j)}$ als $\\vec{y}$ und schließlich die $x$ Werte als Matrix $X$. Warum als Matrix? Das kommt daher, dass es einerseits $N$ unabhängige Variablen und andererseits $M$ Datenpunkte gibt, d.h. $X=x_i^{(j)}$. Konkret ist dabei in $X$ das $i$ der Zeilen- und $j$ der Spalten-Index.\n",
    "\n",
    "Dann lautet die Lösung für die Koeffizienten folgendermaßen:\n",
    "$$\\vec{a}=(X^TX)^{-1}\\,X^T \\vec{y}$$\n",
    "Und das setzen wir nun im Code um, und plotten dann die entsprechende Gerade zu den Daten dazu:"
   ]
  },
  {
   "cell_type": "code",
   "execution_count": null,
   "metadata": {},
   "outputs": [],
   "source": [
    "# Konstuiere y und X\n",
    "y_vec = fake_data\n",
    "\n",
    "# für die Matrix X werden x-Werte und Einsen \"nebeneinander\" geschrieben\n",
    "x_mat = np.hstack((x_values.reshape((len(x_values),1)), np.ones((len(x_values),1))))\n",
    "\n",
    "# berechne a nach der Formel. Das \"@\" ist eine Kurzschreibweise für Matrixmultiplikation\n",
    "a_vec = np.matmul(np.linalg.pinv(np.transpose(x_mat) @ x_mat), np.transpose(x_mat) @ y_vec)\n",
    "\n",
    "# die Lösung ist ein Vektor aus a_1 und a_0\n",
    "print(\"Die fit-Koeffizienten: \", a_vec)\n",
    "\n",
    "# Erzeuge die Fit-Gerade als Einsetzen der x-Werte in ein Polynom mit den Koeffizienten a_1 und a_0\n",
    "reg_data = np.polyval(a_vec, x_values)\n",
    "\n",
    "# neue Figur\n",
    "fig = plt.figure()\n",
    "\n",
    "# plotte wieder die Daten\n",
    "plt.scatter(x_values, fake_data, c=\"r\", marker=\"x\")\n",
    "\n",
    "# und dazu die Gerade\n",
    "plt.plot(x_values, reg_data, \"b\", label=\"Linear fit\")\n",
    "\n",
    "# die Legende\n",
    "plt.legend(loc=0)\n",
    "\n",
    "plt.show()"
   ]
  },
  {
   "cell_type": "markdown",
   "metadata": {},
   "source": [
    "## 3.4 Höherdimensionale Arrays\n",
    "Arrays können im Prinzip auch mehr als nur 2 Dimensionen haben. Man muss nicht unbedingt in die tiefen irgendwelcher Theorien eintauchen, um so etwas zu finden. In der <a href=\"https://de.wikipedia.org/wiki/Bildbearbeitung#Einige_M%C3%B6glichkeiten_der_digitalen_Bildbearbeitung\" target=\"_blank\">Bildbearbeitung</a> (und auch z.B. im <a href=\"https://de.wikipedia.org/wiki/Maschinelles_Lernen\" target=\"_blank\">maschinellen Lernen</a> an Bildern) hat man mit einem 2-dimensionalen Array zu tun, das noch drei weitere \"Kanäle\" hat. Im Daten-Array für das Bild wird das als dritte Dimension angelegt, sodass ein Bild-Array im Allgemeinen die Dimensionen (Breite in Pixel)x(Höhe in Pixel)x3 hat.\n",
    "\n",
    "Wir werden uns hier ein Bild hernehmen, um ein paar Tests und einfache Manipulationen auszuprobieren. Sie werden sehen, dass vieles recht einfach ist und Ihnen bereits ein gutes Gefühl für den Umgang mit höherdimensionalen Daten gibt."
   ]
  },
  {
   "cell_type": "code",
   "execution_count": null,
   "metadata": {},
   "outputs": [],
   "source": [
    "# lade ein Bild über matplotlib-Bibliothek \"image\"\n",
    "# os.path.join zum OS-unabhängigen aneinanderfügen von Dateipfaden\n",
    "the_picture = image.imread(os.path.join('data', 'pinky.jpg'))\n",
    "\n",
    "# schauen wir uns das Bild an\n",
    "plt.figure()\n",
    "\n",
    "# der Befehl für die Darstellung eines Bildes\n",
    "plt.imshow(the_picture)\n",
    "\n",
    "plt.show()"
   ]
  },
  {
   "cell_type": "code",
   "execution_count": null,
   "metadata": {},
   "outputs": [],
   "source": [
    "# eigentlich ist das Bild aber \"nur\" ein Array, wie oben beschrieben\n",
    "the_picture"
   ]
  },
  {
   "cell_type": "code",
   "execution_count": null,
   "metadata": {},
   "outputs": [],
   "source": [
    "# Die Dimension des Arrays:\n",
    "np.shape(the_picture)"
   ]
  },
  {
   "cell_type": "code",
   "execution_count": null,
   "metadata": {},
   "outputs": [],
   "source": [
    "# Wir können diese Werte auch so normieren, dass sie zwischen 0 und 1 liegen:\n",
    "the_picture_normalized = the_picture/256\n",
    "\n",
    "\n",
    "# jetzt können wir mit \"matshow\" statt \"imshow\" weitermachen\n",
    "plt.matshow(the_picture_normalized)\n"
   ]
  },
  {
   "cell_type": "markdown",
   "metadata": {},
   "source": [
    "Hier kommen nun einige einfache Manipulationen und Tests, die wir mit dem Bild machen können, indem wir einfach nur das Array verändern:\n",
    "\n",
    "* Spiegelung\n",
    "* Schwarz-Weiß\n",
    "* Nur einen Farbkanal darstellen\n",
    "* Aufhellen\n",
    "* Einen Filter über das Bild laufen lassen\n",
    "  * Unschärfe\n",
    "  * Beliebiger Filter"
   ]
  },
  {
   "cell_type": "code",
   "execution_count": null,
   "metadata": {},
   "outputs": [],
   "source": [
    "# gespiegelt, rechts-links\n",
    "\n",
    "# Slicen aller Indices der Dimension 1 in umgekehrter Reihenfolge\n",
    "plt.matshow(the_picture_normalized[:,::-1,:])\n",
    "\n",
    "plt.show()"
   ]
  },
  {
   "cell_type": "code",
   "execution_count": null,
   "metadata": {},
   "outputs": [],
   "source": [
    "# schwarz-weiß\n",
    "\n",
    "# Hier brauchen wir eine Definition, wie man aus \n",
    "# RGB-Werten (also den drei Farbkanälen) einen\n",
    "# Grayscale-Kanal macht. Die einfachste Möglichkeit dafür\n",
    "# ist ein arithmetisches Mittel:\n",
    "the_picture_normalized_bw = np.mean(the_picture_normalized, axis=2)\n",
    "\n",
    "# danach hat das Array eine Dimension verloren und sieht seltsam aus\n",
    "print(np.shape(the_picture_normalized_bw))\n",
    "\n",
    "# deshalb müssen wir spezifisch eine Colormap (cmap) angeben\n",
    "# die richtige für grayscale ist \"gray\" (siehe unten), aber es gibt\n",
    "# viele teils lustige Möglichgkeiten: Greys, spring, magma, PRGn, seismic, hsv, Set2, prism\n",
    "plt.matshow(the_picture_normalized_bw, cmap=\"gray\") \n",
    "\n",
    "plt.show()"
   ]
  },
  {
   "cell_type": "code",
   "execution_count": null,
   "metadata": {},
   "outputs": [],
   "source": [
    "# Nur ein Farbkanal\n",
    "\n",
    "# Hier suchen wir uns also einen Kanal aus, z.B. R\n",
    "the_picture_normalized_one_channel = the_picture_normalized[:,:,0]\n",
    "\n",
    "# danach hat das Array wieder eine Dimension verloren\n",
    "print(np.shape(the_picture_normalized_one_channel))\n",
    "\n",
    "# deshalb müssen wir wieder eine Colormap (cmap) angeben\n",
    "# die spezifischen hier sind \"Reds\", \"Greens\" und \"Blues\"\n",
    "plt.matshow(the_picture_normalized_one_channel, cmap=\"Reds\") \n",
    "\n",
    "plt.show()"
   ]
  },
  {
   "cell_type": "code",
   "execution_count": null,
   "metadata": {},
   "outputs": [],
   "source": [
    "# Alle drei Farbkanäle nebeneinander\n",
    "plt.figure(figsize=(10, 5))\n",
    "\n",
    "# Definiere alle nötigen Colormaps in einer Liste\n",
    "colormaps = [\"Reds\", \"Greens\", \"Blues\"]\n",
    "\n",
    "# Loop über den index der drei Farbkanäle\n",
    "for ind_color in range(3):\n",
    "    ax = plt.subplot(1, 3, ind_color+1)\n",
    "    ax.matshow(the_picture_normalized[:,:,ind_color], cmap=colormaps[ind_color]) \n",
    "\n",
    "plt.show()"
   ]
  },
  {
   "cell_type": "code",
   "execution_count": null,
   "metadata": {},
   "outputs": [],
   "source": [
    "# Aufhellen\n",
    "plt.figure(figsize=(10, 5))\n",
    "\n",
    "# normales Bild zum Vergleich\n",
    "ax = plt.subplot(1, 2, 1)\n",
    "ax.matshow(the_picture_normalized) \n",
    "\n",
    "# aufgehelltes Bild daneben\n",
    "ax = plt.subplot(1, 2, 2)\n",
    "# eine einfache Methode, Zahlen zwischen 0 und 1 größer zu machen\n",
    "# ist, die Quadratwurzel zu ziehen\n",
    "ax.matshow(np.sqrt(the_picture_normalized)) \n",
    "\n",
    "plt.show()"
   ]
  },
  {
   "cell_type": "code",
   "execution_count": null,
   "metadata": {},
   "outputs": [],
   "source": [
    "# Einen Blur-Filter über das Bild laufen lassen\n",
    "# Das braucht etwas mehr Vorbereitung\n",
    "\n",
    "# zunächst definieren wir den Filter, eine kleine Matrix\n",
    "# dieser Filter mittelt n**2 benachbarte Werte in einem nxn-Pixel Quadrat\n",
    "# das ist ein simpler Filter für Unschärfe\n",
    "blur_size = 7\n",
    "a_filter = 1/blur_size**2 * np.ones((blur_size, blur_size))\n",
    "\n",
    "# nun müssen wir den Filter von links oben über alle Positionen im Bild bis \n",
    "# nach rechts unten laufen lassen. Dazu verwenden wir zwei Loops über\n",
    "# alle horizontalen und vertikalen Pixel und lassen zum Rand immer den \n",
    "# entsprechenden Abstand, sodass der Filter nicht über das Bild hinausragt\n",
    "\n",
    "# bestimme die Größe des Bildes\n",
    "y_dim, x_dim, _ = np.shape(the_picture_normalized)\n",
    "\n",
    "# lege Array mit Nullen für das Resultat an\n",
    "the_picture_normalized_blurred = np.zeros((y_dim, x_dim, 3))\n",
    "\n",
    "# bestimme Abstand zum Rand\n",
    "edge_dist = (blur_size - 1) // 2\n",
    "\n",
    "# lege Schrittweite fest\n",
    "the_stride = 1\n",
    "\n",
    "# Loop über alle vertikalen Positionen \"innerhalb\" des Bildes\n",
    "for y_index in tqdm(np.arange(edge_dist, y_dim - edge_dist, the_stride, dtype=int)):\n",
    "\n",
    "    # Loop über alle horizontalen Positionen \"innerhalb\" des Bildes\n",
    "    for x_index in np.arange(edge_dist, x_dim - edge_dist, the_stride, dtype=int):\n",
    "        \n",
    "        # Loop über alle Kanäle\n",
    "        for channel_index in np.arange(3):\n",
    "            \n",
    "            the_picture_normalized_blurred[y_index, x_index, channel_index] = np.sum( \n",
    "             a_filter * the_picture_normalized[y_index-edge_dist:y_index+edge_dist+1, \n",
    "                                                 x_index-edge_dist:x_index+edge_dist+1, \n",
    "                                                 channel_index])\n",
    "    \n",
    "\n",
    "# Das Bild mit Unschärfe darstellen\n",
    "plt.matshow(the_picture_normalized_blurred)\n",
    "\n",
    "plt.show()"
   ]
  },
  {
   "cell_type": "code",
   "execution_count": null,
   "metadata": {},
   "outputs": [],
   "source": [
    "# Die Unschärfe ist im Ganzen schwer zu sehen, daher hier ein Ausschnitt\n",
    "\n",
    "# plt.matshow(the_picture_normalized[300:700,700:1150,:])        # original\n",
    "plt.matshow(the_picture_normalized_blurred[300:700,700:1150,:])  # blurred\n",
    "\n",
    "plt.show()"
   ]
  },
  {
   "cell_type": "code",
   "execution_count": null,
   "metadata": {},
   "outputs": [],
   "source": [
    "# Einen allgemeinen Filter über das Bild laufen lassen\n",
    "# Das braucht etwas mehr Vorbereitung\n",
    "\n",
    "# zunächst definieren wir den Filter, eine kleine Matrix\n",
    "# dieser Filter addiert benachbarte Werte mit bestimmten Gewichten \n",
    "# in einem nxn-Pixel Quadrat\n",
    "# das ist ein simpler Filter für Kanten-Erkennung\n",
    "filter_size = 3\n",
    "a_filter = np.array([[-1, -1, -1], [-1, 8, -1], [-1, -1, -1]])\n",
    "\n",
    "# nun müssen wir den Filter von links oben über alle Positionen im Bild bis \n",
    "# nach rechts unten laufen lassen. Dazu verwenden wir zwei Loops über\n",
    "# alle horizontalen und vertikalen Pixel und lassen zum Rand immer den \n",
    "# entsprechenden Abstand, sodass der Filter nicht über das Bild hinausragt\n",
    "\n",
    "# bestimme die Größe des Bildes\n",
    "y_dim, x_dim, _ = np.shape(the_picture_normalized)\n",
    "\n",
    "# lege Array mit Nullen für das Resultat an\n",
    "the_picture_normalized_filtered = np.zeros((y_dim, x_dim, 3))\n",
    "\n",
    "# bestimme Abstand zum Rand\n",
    "edge_dist = (filter_size - 1) // 2\n",
    "\n",
    "# lege Schrittweite fest\n",
    "the_stride = 1\n",
    "\n",
    "# Loop über alle vertikalen Positionen \"innerhalb\" des Bildes\n",
    "for y_index in tqdm(np.arange(edge_dist, y_dim - edge_dist, the_stride, dtype=int)):\n",
    "\n",
    "    # Loop über alle horizontalen Positionen \"innerhalb\" des Bildes\n",
    "    for x_index in np.arange(edge_dist, x_dim - edge_dist, the_stride, dtype=int):\n",
    "        \n",
    "        # Loop über alle Kanäle\n",
    "        for channel_index in np.arange(3):\n",
    "            \n",
    "            the_picture_normalized_filtered[y_index, x_index, channel_index] = np.sum( \n",
    "             a_filter * the_picture_normalized[y_index-edge_dist:y_index+edge_dist+1, \n",
    "                                                 x_index-edge_dist:x_index+edge_dist+1, \n",
    "                                                 channel_index])\n",
    "    \n",
    "\n",
    "# Nochmal normieren, um sicher zu gehen, dass die Werte zwischen 0 und 1 bleiben\n",
    "the_min = np.amin(the_picture_normalized_filtered)\n",
    "the_max = np.amax(the_picture_normalized_filtered)\n",
    "the_picture_normalized_filtered = (the_picture_normalized_filtered - the_min)/(the_max - the_min)\n",
    "\n",
    "\n",
    "# Das gefilterte Bild darstellen\n",
    "plt.matshow(the_picture_normalized_filtered)\n",
    "\n",
    "plt.show()"
   ]
  },
  {
   "cell_type": "code",
   "execution_count": null,
   "metadata": {},
   "outputs": [],
   "source": [
    "# Die Edge-Detection ist im Ganzen schwer zu sehen, daher hier ein Ausschnitt\n",
    "# Außerdem eingeschränkt auf Kanal 2 (blau)\n",
    "\n",
    "plt.matshow(the_picture_normalized_filtered[300:700,700:1150,2], cmap=\"Greys\")\n",
    "\n",
    "plt.show()"
   ]
  },
  {
   "cell_type": "markdown",
   "metadata": {},
   "source": [
    "## 3.5 Was macht (und bringt) Vektorisierung?\n",
    "Vektorisierung ist die Technik (und manchmal Kunst), Operationen, die man intuitiv als Loop ausführen würde, für Vektoren und Matrizen zu schreiben. Schafft man das, hat das im Allgemeinen Vorteile hinsichtlich der Geschwindigkeit. Der Vorteil endet allerdings, wenn der Speicher für die zu speichernden Arrays zu Ende geht.\n",
    "\n",
    "Hier ein paar Beispiele."
   ]
  },
  {
   "cell_type": "code",
   "execution_count": null,
   "metadata": {},
   "outputs": [],
   "source": [
    "# Die Anzahl der Punkte/die Dimension der Vektoren und Matrizen, mit der wir testen\n",
    "n_points = 2000\n",
    "\n",
    "# Erzeuge einen Vektor mit Zufallszahlen zwischen 0 und 1\n",
    "a_random_vector = np.random.random(n_points)"
   ]
  },
  {
   "cell_type": "code",
   "execution_count": null,
   "metadata": {},
   "outputs": [],
   "source": [
    "%%time\n",
    "\n",
    "# getimter Run: Quadriere alle Elemente im Vektor über einen Loop\n",
    "a_random_vector_squared_1 = [elem**2 for elem in a_random_vector]"
   ]
  },
  {
   "cell_type": "code",
   "execution_count": null,
   "metadata": {},
   "outputs": [],
   "source": [
    "%%time\n",
    "\n",
    "# getimter Run: Vektorisiertes elementweises Quadrat\n",
    "a_random_vector_squared_2 = a_random_vector**2"
   ]
  },
  {
   "cell_type": "code",
   "execution_count": null,
   "metadata": {},
   "outputs": [],
   "source": [
    "# Erzeuge eine nxn Matrix mit Zufallszahlen zwischen 0 und 1\n",
    "a_random_matrix = np.random.random((n_points, n_points))"
   ]
  },
  {
   "cell_type": "code",
   "execution_count": null,
   "metadata": {},
   "outputs": [],
   "source": [
    "%%time\n",
    "\n",
    "# Initialisiere die Resultatmatrix\n",
    "a_random_matrix_twice_1 = np.zeros((n_points, n_points))\n",
    "\n",
    "# getimter Run: Verdopple alle Elemente der Matrix über zwei Loops\n",
    "for ind_1 in range(n_points):\n",
    "    for ind_2 in range(n_points):\n",
    "        \n",
    "        # Elementweises Setzen der Werte\n",
    "        a_random_matrix_twice_1[ind_1, ind_2] = 2 * a_random_matrix[ind_1, ind_2]"
   ]
  },
  {
   "cell_type": "code",
   "execution_count": null,
   "metadata": {},
   "outputs": [],
   "source": [
    "%%time\n",
    "\n",
    "# getimter Run: Vektorisiertes Verdoppeln\n",
    "a_random_matrix_twice_2 = 2 * a_random_matrix"
   ]
  },
  {
   "cell_type": "code",
   "execution_count": null,
   "metadata": {},
   "outputs": [],
   "source": [
    "%%time\n",
    "\n",
    "# Hier noch etwas komplizierteres: Elementweise Abfrage\n",
    "\n",
    "# Initialisiere die Resultatmatrix\n",
    "a_random_matrix_gthalf_1 = np.zeros((n_points, n_points))\n",
    "\n",
    "# getimter Run: Gehe über alle Elemente der Matrix über zwei Loops\n",
    "for ind_1 in range(n_points):\n",
    "    for ind_2 in range(n_points):\n",
    "        \n",
    "        # Zuerst den Wert an dieser Stelle der Matrix ausrechnen\n",
    "        value_here = a_random_matrix[ind_1, ind_2]\n",
    "        \n",
    "        # if-Abfrage, ob der Wert größer als 0.5 ist\n",
    "        if value_here > 0.5:\n",
    "            \n",
    "            # ja, ist größer, setze Resultat auf 1\n",
    "            a_random_matrix_gthalf_1[ind_1, ind_2] = 1.\n",
    "            \n",
    "        else:\n",
    "            # nein, ist kleiner, setze Resultat auf 0\n",
    "            a_random_matrix_gthalf_1[ind_1, ind_2] = 0."
   ]
  },
  {
   "cell_type": "code",
   "execution_count": null,
   "metadata": {},
   "outputs": [],
   "source": [
    "%%time\n",
    "\n",
    "# getimter Run: Vektorisierte if-Abfrage\n",
    "# np.where(Bedingung, Resultat bei True, Resultat bei False)\n",
    "a_random_matrix_gthalf_2 = np.where(a_random_matrix > 0.5 * np.ones((n_points, n_points)), \n",
    "                                    np.ones((n_points, n_points)), \n",
    "                                    np.zeros((n_points, n_points))\n",
    "                                   )"
   ]
  },
  {
   "cell_type": "code",
   "execution_count": null,
   "metadata": {},
   "outputs": [],
   "source": [
    "# hier noch der Vergleich, ob die beiden Resultate auch gleich sind\n",
    "# dazu summieren wir alle Stellen, wo es ungleich ist (also eine Eins/True steht)\n",
    "# Die Summe ist also die Anzahl der falschen Vergleich-Elemente\n",
    "np.sum(a_random_matrix_gthalf_1 != a_random_matrix_gthalf_2)"
   ]
  },
  {
   "cell_type": "markdown",
   "metadata": {},
   "source": [
    "Wichtig beim Umgang mit Arrays ist auch das Konzept der _axis_ bei einer _NumPy_-Operation. Zum Beispiel können Sie die Summe aus einem Array komplett berechnen, aber auch nur entlang einer bestimmten Richtung (_axis_). Diese Vorgehensweise funktioniert bei den meisten Befehlen, die auf Arrays angewendet werden. \n",
    "\n",
    "Hier auch dazu ein paar Beispiele:"
   ]
  },
  {
   "cell_type": "code",
   "execution_count": null,
   "metadata": {},
   "outputs": [],
   "source": [
    "# Nochmal die Matrix von oben:\n",
    "a_matrix = np.array([[2, 3, 5, -3], [1, 3, -1, 4], [1, 2, -3, 2], [3, 4, -2, 1]])\n",
    "a_matrix"
   ]
  },
  {
   "cell_type": "code",
   "execution_count": null,
   "metadata": {},
   "outputs": [],
   "source": [
    "# Hier drei Summen: zunächst über alle Elemente\n",
    "print(np.sum(a_matrix))\n",
    "\n",
    "# Dann entlang der beiden Achsen separat\n",
    "# Dabei entsteht ein Vektor mit den Summen entlang, z.B. der Zeilen\n",
    "print(np.sum(a_matrix, axis=0))\n",
    "\n",
    "# oder der Spalten\n",
    "print(np.sum(a_matrix, axis=1))\n",
    "\n",
    "# Dabei sollten die Summen auch zusammenpassen:\n",
    "print(np.sum(np.sum(a_matrix, axis=1)))\n",
    "print(np.sum(np.sum(a_matrix, axis=0)))"
   ]
  },
  {
   "cell_type": "code",
   "execution_count": null,
   "metadata": {},
   "outputs": [],
   "source": [
    "# Erhöhen wir nun die Dimension ein bisschen\n",
    "cubicle = np.concatenate((np.expand_dims(a_matrix, axis=0), np.expand_dims(np.transpose(a_matrix), axis=0)))\n",
    "cubicle"
   ]
  },
  {
   "cell_type": "code",
   "execution_count": null,
   "metadata": {},
   "outputs": [],
   "source": [
    "# Hier kann man jetzt z.B. über zwei von drei Dimensionen summieren\n",
    "# dazu muss man dem _axis_-Argument auch ein Tupel übergeben:\n",
    "np.sum(cubicle, axis=(0, 2))"
   ]
  },
  {
   "cell_type": "markdown",
   "metadata": {},
   "source": [
    "# 3.6 Übungsaufgabe: Bildanalyse und einfache -manipulation\n",
    "In dieser Aufgabe verwenden Sie bitte das Bild _quadrate.png_ von der Moodle-Seite des Kurses. Die folgenden Aufgaben können Sie mit Hilfe der Befehle aus dieser Einheit gut erledigen:\n",
    "\n",
    "* Laden Sie das Bild in ein _NumPy_-Array. Hinweis: ein png hat 4 Kanäle: R, G, B, alpha. Den alpha-Kanal können Sie gleich nach dem Laden entfernen.\n",
    "* Zählen Sie die roten Quadrate (mit Python, nicht mit der Hand :) ). Hinweis: Jedes Quadrat ist genau 81 Pixel groß.\n",
    "* Kopieren Sie das Array und färben Sie in der Kopie die roten Quadrate auf blau um\n",
    "\n",
    "__Zusatzaufgabe (optional)__:  Bestimmen Sie die Mittelpunkte der Quadrate als Paare $i_y,i_x$ von Pixelpositionen des jeweiligen Quadrat-Mittelpunkts im Bild und geben Sie die Liste im Notebook aus. "
   ]
  },
  {
   "cell_type": "code",
   "execution_count": null,
   "metadata": {},
   "outputs": [],
   "source": [
    "# lade ein Bild über matplotlib-Bibliothek \"image\"\n",
    "q_picture = image.imread(os.path.join('data', 'quadrate.png'))\n",
    "\n",
    "# reduziere die 4 Kanäle aus dem png auf die üblichen 3\n",
    "q_picture = q_picture[:,:,:-1]\n",
    "\n",
    "# das Bild über matshow darstellen\n",
    "plt.matshow(q_picture)\n",
    "\n",
    "plt.show()"
   ]
  },
  {
   "cell_type": "code",
   "execution_count": null,
   "metadata": {},
   "outputs": [],
   "source": [
    "# Die Lösung für die Aufgabe des Zählens der Quadrate kann man verschieden angehen\n",
    "# die Basis dafür ist, die roten Pixel im Bild zu zählen und deren\n",
    "# Anzahl dann durch 81 zu dividieren (die Größe eines Quadrats)\n",
    "\n",
    "# um zwischen roten und weißen Pixeln zu unterscheiden, ist es wichtig, zu\n",
    "# verstehen, dass weiße Pixel im bild die Kanalwerte (1,1,1) haben und\n",
    "# einfärbige z.B. den Wert (1,0,0) \n",
    "# Wenn Sie also die Summe über die Pixel innerhalb eines Kanals nehmen,\n",
    "# dann bekommen Sie die Summe aller Einsen. \n",
    "# in unserem Fall muss z.B. die Summer der Einsen im roten Kanal genau die \n",
    "# Gesamtzahl der Bildpixel ergeben.\n",
    "# Die Summe der Einsen im grünen Kanal dagegen sollte um die Anzahl aller roten\n",
    "# Bildpunkte geringer sein (weil dort im Kanal G eine Null statt einer Eins steht)\n",
    "\n",
    "# Daher ist die Folgende Summe interessant: Über alle Dimensionen des Bildes, außer dem Kanal\n",
    "channel_sums = np.sum(q_picture, axis=(0,1), dtype=int)\n",
    "channel_sums"
   ]
  },
  {
   "cell_type": "code",
   "execution_count": null,
   "metadata": {},
   "outputs": [],
   "source": [
    "# damit erhalten wir nun die Lösung auf die Frage, wie viele rote Quadrate \n",
    "# es im Bild gibt, über den Folgenden Ausdruck: (Anzahl rot minus Anzahl grün)/81\n",
    "(channel_sums[0] - channel_sums[1]) / 81"
   ]
  },
  {
   "cell_type": "code",
   "execution_count": null,
   "metadata": {},
   "outputs": [],
   "source": [
    "# nun bleibt noch die zweite Aufgabe, nämlich die roten Punkte blau zu machen\n",
    "# wir wissen bereits, dass bei roten Punkten die folgenden \n",
    "# Kanalwerte vorliegen: (1,0,0)\n",
    "# Bei einem blauen Punkt hat man hingegen (0,0,1)\n",
    "# Hier handelt es sich um eine zyklische Permutation, d.h. die Eins\n",
    "# wird einfach zyklisch durchgetauscht.\n",
    "# Da bei weißen Punkten (1,1,1) zyklische Vertauschungen keine Veränderung\n",
    "# hervorrufen, kann man eine zyklische Vertauschung der kompletten\n",
    "# Kanal-Ebenen im Bild verwenden, um die Farbe von rot auf blau zu ändern\n",
    "# numpy hat für zyklische Vertauschungen in einem Array den Befehl np.roll bereitgestellt\n",
    "\n",
    "# tausche die channels zyklisch, und zwar zu grün und blau, der Vollständigkeit halber\n",
    "# Achten Sie auf axis=2, wodurch die Vertauschung auf die Kanaldimension beschränkt wird\n",
    "green_q = np.roll(q_picture, 1, axis=2)\n",
    "blue_q = np.roll(q_picture, 2, axis=2)\n",
    "\n",
    "# jetzt plotten wir noch beide umgefärbten Bilder nebeneinander\n",
    "fig = plt.figure(figsize=(10,5))\n",
    "\n",
    "# die grünen Quadrate\n",
    "ax = plt.subplot(1, 2, 1)\n",
    "ax.matshow(green_q) \n",
    "\n",
    "# und die blauen Quadrate\n",
    "ax = plt.subplot(1, 2, 2)\n",
    "ax.matshow(blue_q) \n",
    "\n",
    "\n",
    "plt.show()"
   ]
  },
  {
   "cell_type": "code",
   "execution_count": null,
   "metadata": {},
   "outputs": [],
   "source": [
    "# nun zur Zusatzaufgabe: wir möchten die Positionen der \n",
    "# Quadrate herauslesen. Dazu können wir im Prinzip das Filter-Prinzip und\n",
    "# Teile des Codes von oben verwenden.\n",
    "# Wir lassen einen Summenfilter der Größe 9x9 über z.B. den grünen Kanal laufen \n",
    "# und überall, wo er Null ergibt, entspricht die Filterposition dem Mittelpunkt des Quadrats\n",
    "\n",
    "# den Filter brauchen wir hier nicht extra zu definieren, denn\n",
    "# wir summieren einfach die Positionen im Farbkanal auf.\n",
    "# Wir behalten aber das praktische Prinzip der Filtergröße bei\n",
    "filter_size = 9\n",
    "\n",
    "\n",
    "# wir müssen den Filter wieder von links oben über alle Positionen im Bild bis \n",
    "# nach rechts unten laufen lassen. Dazu verwenden wir zwei Loops über\n",
    "# alle horizontalen und vertikalen Pixel und lassen zum Rand immer den \n",
    "# entsprechenden Abstand, sodass der Filter nicht über das Bild hinausragt\n",
    "\n",
    "# bestimme die Größe des Bildes\n",
    "y_dim, x_dim, _ = np.shape(q_picture)\n",
    "\n",
    "# bestimme Abstand zum Rand\n",
    "edge_dist = (filter_size - 1) // 2\n",
    "\n",
    "# lege Schrittweite fest\n",
    "the_stride = 1\n",
    "\n",
    "# lege Liste für Positionen an\n",
    "position_list = []\n",
    "\n",
    "# Loop über alle vertikalen Positionen \"innerhalb\" des Bildes\n",
    "for y_index in tqdm(np.arange(edge_dist, y_dim - edge_dist, the_stride, dtype=int)):\n",
    "\n",
    "    # Loop über alle horizontalen Positionen \"innerhalb\" des Bildes\n",
    "    for x_index in np.arange(edge_dist, x_dim - edge_dist, the_stride, dtype=int):\n",
    "        \n",
    "        # aus dem Loop über alle Kanäle wird die Einschränkung auf den grünen (1)\n",
    "        # wir wollen diesmal allerdings kein neues Bild erzeugen, sondern nur\n",
    "        # die Summe checken\n",
    "        this_sum = np.sum(q_picture[y_index-edge_dist:y_index+edge_dist+1, \n",
    "                                    x_index-edge_dist:x_index+edge_dist+1, \n",
    "                                    1])\n",
    "        # checke, ob die Summe 0 ist\n",
    "        if this_sum == 0:\n",
    "            # ja, hänge die Position an die Liste an\n",
    "            position_list.append([y_index, x_index])\n",
    "\n",
    "# Hier die fertige Liste\n",
    "print(\"Liste der Positionen: \", position_list)\n",
    "\n",
    "# Checke die Länge der Liste (sollte 25 sein)\n",
    "print(\"Länge dieser Liste: \", len(position_list))\n"
   ]
  },
  {
   "cell_type": "code",
   "execution_count": null,
   "metadata": {},
   "outputs": [],
   "source": []
  }
 ],
 "metadata": {
  "kernelspec": {
   "display_name": "Python 3",
   "language": "python",
   "name": "python3"
  },
  "language_info": {
   "codemirror_mode": {
    "name": "ipython",
    "version": 3
   },
   "file_extension": ".py",
   "mimetype": "text/x-python",
   "name": "python",
   "nbconvert_exporter": "python",
   "pygments_lexer": "ipython3",
   "version": "3.8.5"
  }
 },
 "nbformat": 4,
 "nbformat_minor": 4
}
