{
 "cells": [
  {
   "cell_type": "markdown",
   "metadata": {},
   "source": [
    "# 2. Differenzieren und Integrieren\n",
    "In dieser Einheit werden wir uns mit den Bereichen der <a href=\"https://de.wikipedia.org/wiki/Analysis\" target=\"_blank\">Analysis</a> aus der fortgeschrittenen <a href=\"https://de.wikipedia.org/wiki/Mathematik\" target=\"_blank\">Mathematik</a> beschäftigen. Außerdem werden wir uns mit zwei Herangehensweisen zu konkreten Problemen befassen: \n",
    "\n",
    "* Der Methode der analytischen Lösungen und\n",
    "* Numerischen Lösungsmethoden\n",
    "\n",
    "Ich möchte versuchen, Ihnen auf relativ direktem Weg alles an Werkzeugen in die Hand zu geben, das Sie brauchen werden, um bereits ein sehr breites Spektrum an Problemstellungen angehen zu können. Dabei achten wir darauf, dass Sie Lernen, auf die Mächtigkeit von <a href=\"https://pypi.org/\" target=\"_blank\">Python-Bibliotheken</a> zu vertrauen und darauf, dass für nahezu jedes algorithmische oder numerische Problem bereits eine hilfreiche Bibliothek oder Package existiert.\n",
    "\n",
    "## 2.1 Analytisches Arbeiten mit Funktionen in SymPy\n",
    "Beginnen wir mit dem eigentlich recht kurzen analytischen Teil. Dafür gibt es in Python die Package <a href=\"https://www.sympy.org/en/index.html\" target=\"_blank\">SymPy</a>, mit der Sie z.B. die <a href=\"https://de.wikipedia.org/wiki/Differentialrechnung\" target=\"_blank\">Ableitungen</a> von Funktionen analytisch bestimmen können.\n",
    "\n",
    "Hinweis: SymPy an sich ist allerdings sehr mächtig und beherrscht wesentlich mehr als wir für die Zwecke dieser Lehrveranstaltung verwenden werden. Da ich Ihnen das nicht vorenthalten möchte (weil es für viele Dinge interessant ist, die mit symbolischen Rechnungen zu tun haben), finden Sie hier, verlinkt, die <a href=\"https://docs.sympy.org/latest/index.html\" target=\"_blank\">Dokumentation von SymPy</a>.\n",
    "\n",
    "### 2.1.1 Grundbegriffe\n",
    "\n",
    "Zunächst muss man sich noch um die Begriffe der <a href=\"https://de.wikipedia.org/wiki/Funktion_(Mathematik)\" target=\"_blank\">Funktion</a> und der <a href=\"https://de.wikipedia.org/wiki/Variable_(Mathematik)\" target=\"_blank\">Variablen</a> kümmern und darum, wie diese in Sympy umgesetzt sind. Nehmen wir zu Anfang einfach eine Funktion $f$ einer Variablen $x$, also $f(x)$. Dann haben wir folgendes:"
   ]
  },
  {
   "cell_type": "code",
   "execution_count": null,
   "metadata": {},
   "outputs": [],
   "source": [
    "# importiere die Package SymPy\n",
    "import sympy as sp\n",
    "\n",
    "# enable prettier Symbol Layout (LaTeX)\n",
    "sp.init_printing()"
   ]
  },
  {
   "cell_type": "code",
   "execution_count": null,
   "metadata": {},
   "outputs": [],
   "source": [
    "# Definiere eine Variable, dafür gibt es die Klasse Symbol\n",
    "x = sp.Symbol(\"x\")\n",
    "\n",
    "# wie sieht das aus?\n",
    "print(x)\n",
    "\n",
    "# definiere eine Funktion\n",
    "f = sp.sin(x)\n",
    "\n",
    "# und wie sieht das aus?\n",
    "print(f)"
   ]
  },
  {
   "cell_type": "code",
   "execution_count": null,
   "metadata": {},
   "outputs": [],
   "source": [
    "# wenn man eine Funktion an einem bestimmten Wert haben möchte, macht man\n",
    "print(\"Der Sinus von\", sp.pi, \"ist\", f.subs(x, sp.pi))\n",
    "\n",
    "# man substituiert also für das Symbol den Wert. Nochmal:\n",
    "print(f.subs(x, 1.))"
   ]
  },
  {
   "cell_type": "code",
   "execution_count": null,
   "metadata": {},
   "outputs": [],
   "source": [
    "# Auch mehrere Variablen sind kein Problem\n",
    "x0, a, z = sp.symbols(\"x0 alpha z\")\n",
    "\n",
    "# die Ausgabe im Notebook ohne print-Befehl sieht dann wie Formelschrift aus\n",
    "x0, a, z"
   ]
  },
  {
   "cell_type": "code",
   "execution_count": null,
   "metadata": {},
   "outputs": [],
   "source": [
    "# es gibt auch noch eine praktische Kurzschreibweise für gleich eine ganze Reihe von Variablen\n",
    "abunchofsymbols = sp.symbols(\"x0:15\")\n",
    "\n",
    "abunchofsymbols"
   ]
  },
  {
   "cell_type": "code",
   "execution_count": null,
   "metadata": {},
   "outputs": [],
   "source": [
    "# Man kann mit .subs auch einen Ausdruck in den anderen einsetzen.\n",
    "# definieren wir noch eine Funktion\n",
    "g = sp.exp(-x**2)\n",
    "\n",
    "# und dann setzen wir f in g ein\n",
    "out_sub = g.subs(x, f)\n",
    "\n",
    "# wie sieht das aus?\n",
    "out_sub"
   ]
  },
  {
   "cell_type": "code",
   "execution_count": null,
   "metadata": {},
   "outputs": [],
   "source": [
    "# und zu guter letzt brauchen wir eventuell auch mal numerische Werte:\n",
    "# aus\n",
    "out_sub.subs(x, 4)"
   ]
  },
  {
   "cell_type": "code",
   "execution_count": null,
   "metadata": {},
   "outputs": [],
   "source": [
    "# wird\n",
    "sp.N(out_sub.subs(x, 4))"
   ]
  },
  {
   "cell_type": "code",
   "execution_count": null,
   "metadata": {},
   "outputs": [],
   "source": [
    "# das gilt auch für die Konstanten\n",
    "sp.N(sp.pi, 400)"
   ]
  },
  {
   "cell_type": "code",
   "execution_count": null,
   "metadata": {},
   "outputs": [],
   "source": [
    "# und hier noch eine effiziente Möglichkeit für Arrays\n",
    "\n",
    "# importieren von Numpy \n",
    "import numpy as np\n",
    "\n",
    "# ein Array, z.B. für einen Plot (als x-Werte)\n",
    "x_values = np.linspace(0, 30, 30)\n",
    "\n",
    "# so kann man die Werte im Array auf einmal zu numerischen Werten in einem f-Array machen\n",
    "# Vorbereitung der \"Funktion für das Einsetzen eines Arrays\"\n",
    "g_to_numerical = sp.lambdify(x, g)\n",
    "\n",
    "# das Einsetzen des Arrays:\n",
    "g_to_numerical(x_values)"
   ]
  },
  {
   "cell_type": "markdown",
   "metadata": {},
   "source": [
    "### 2.1.2 Lösen von Gleichungen\n",
    "SymPy kann auch verwendet werden, um <a href=\"https://de.wikipedia.org/wiki/Gleichung\" target=\"_blank\">Gleichungen</a> zu lösen. Dazu muss man zunächst eine Gleichung definieren. Das geht mit einem separaten Befehl, da _=_ und _==_ bereits anderweitig belegt sind (nämlich mittels _sp.Eq_). Danach kann man die <a href=\"https://de.wikipedia.org/wiki/L%C3%B6sung_(Mathematik)\" target=\"_blank\">Lösung der Gleichung</a> finden (mit _sp.solveset_). Hier die einzelnen Schritte im Detail."
   ]
  },
  {
   "cell_type": "code",
   "execution_count": null,
   "metadata": {},
   "outputs": [],
   "source": [
    "# Definieren einer Gleichung\n",
    "sp.Eq(x, z)"
   ]
  },
  {
   "cell_type": "code",
   "execution_count": null,
   "metadata": {},
   "outputs": [],
   "source": [
    "# oder mit den Befehlen von vorher\n",
    "sp.Eq(f, g)"
   ]
  },
  {
   "cell_type": "code",
   "execution_count": null,
   "metadata": {},
   "outputs": [],
   "source": [
    "# Bei Angabe nur eines Arguments passiert folgendes:\n",
    "sp.Eq(f)"
   ]
  },
  {
   "cell_type": "code",
   "execution_count": null,
   "metadata": {},
   "outputs": [],
   "source": [
    "# das sieht man allerdings in älteren Tutorials teilweise. \n",
    "# Stattdessen soll man also schreiben\n",
    "sp.Eq(f, 0)"
   ]
  },
  {
   "cell_type": "code",
   "execution_count": null,
   "metadata": {},
   "outputs": [],
   "source": [
    "# Lösen einiger Gleichungen\n",
    "# zunächst: endlich viele Lösungen\n",
    "sol = sp.solveset(sp.Eq(x**2, 2))\n",
    "sol"
   ]
  },
  {
   "cell_type": "code",
   "execution_count": null,
   "metadata": {},
   "outputs": [],
   "source": [
    "# Verwendbar sind die Lösungen z.B. als Liste\n",
    "sp.N(list(sol)[0], 5)"
   ]
  },
  {
   "cell_type": "code",
   "execution_count": null,
   "metadata": {},
   "outputs": [],
   "source": [
    "# aber auch: unendlich viele Lösungen:\n",
    "sp.solveset(sp.Eq(f, 0))"
   ]
  },
  {
   "cell_type": "code",
   "execution_count": null,
   "metadata": {},
   "outputs": [],
   "source": [
    "# oder aber auch: keine Lösungen im Reellen, dafür im Komplexen:\n",
    "sp.solveset(sp.Eq(f + sp.pi, 0))"
   ]
  },
  {
   "cell_type": "markdown",
   "metadata": {},
   "source": [
    "### 2.1.3 Differenzieren in SymPy\n",
    "Als nächstes sehen wir uns nun konkret das Differenzieren an. Die Funktionalität hierbei ist sehr intuitiv. Alles was an Symbolen in einem Ausdruck enthalten ist, kann als Differentiationsvariable verwendet werden. Hier zunächst ein sehr einfaches Beispiel, danach ein paar weitere, damit Sie die Möglichkeiten sehen. der Befehl zum Ableiten heißt _sp.diff()_."
   ]
  },
  {
   "cell_type": "code",
   "execution_count": null,
   "metadata": {},
   "outputs": [],
   "source": [
    "# zur Erinnerung, eine unserer Funktionen\n",
    "f"
   ]
  },
  {
   "cell_type": "code",
   "execution_count": null,
   "metadata": {},
   "outputs": [],
   "source": [
    "# und hier die Ableitung nach x\n",
    "sp.diff(f, x)"
   ]
  },
  {
   "cell_type": "code",
   "execution_count": null,
   "metadata": {},
   "outputs": [],
   "source": [
    "# und hier die 2. Ableitung nach x\n",
    "sp.diff(f, x, 2)"
   ]
  },
  {
   "cell_type": "code",
   "execution_count": null,
   "metadata": {},
   "outputs": [],
   "source": [
    "# und hier die ersten 10 Ableitungen nach x\n",
    "for der_i in range(10):\n",
    "    print(sp.diff(f, x, der_i+1))"
   ]
  },
  {
   "cell_type": "code",
   "execution_count": null,
   "metadata": {},
   "outputs": [],
   "source": [
    "# und hier die Ableitung nach z\n",
    "sp.diff(f, z)"
   ]
  },
  {
   "cell_type": "code",
   "execution_count": null,
   "metadata": {},
   "outputs": [],
   "source": [
    "# mit mehreren Variablen kann man so arbeiten\n",
    "h = f * f.subs(x, z)\n",
    "h"
   ]
  },
  {
   "cell_type": "code",
   "execution_count": null,
   "metadata": {},
   "outputs": [],
   "source": [
    "# jetzt kann man konbinieren\n",
    "sp.diff(h, x, z, x)"
   ]
  },
  {
   "cell_type": "code",
   "execution_count": null,
   "metadata": {},
   "outputs": [],
   "source": [
    "# jetzt kann man konbinieren\n",
    "sp.diff(h, x, 3, z, 4, x, 2)"
   ]
  },
  {
   "cell_type": "markdown",
   "metadata": {},
   "source": [
    "### 2.1.4 Integrieren in SymPy\n",
    "Auch symbolisches <a href=\"https://de.wikipedia.org/wiki/Integralrechnung\" target=\"_blank\">Integrieren</a> ist mit SymPy sehr intuitiv. Der Befehl dazu heißt _sp.integrate()_, und wir sehen uns am besten auch hier einfach ein paar Beispiele an:"
   ]
  },
  {
   "cell_type": "code",
   "execution_count": null,
   "metadata": {},
   "outputs": [],
   "source": [
    "# einfaches unbestimmtes Integral\n",
    "sp.integrate(f, x)"
   ]
  },
  {
   "cell_type": "code",
   "execution_count": null,
   "metadata": {},
   "outputs": [],
   "source": [
    "# Achtung, SymPy gibt nicht automatisch die Integrationskonstante dazu\n",
    "# das muss man also selbst machen:\n",
    "C = sp.Symbol(\"C\")\n",
    "sp.integrate(f, x) + C"
   ]
  },
  {
   "cell_type": "code",
   "execution_count": null,
   "metadata": {},
   "outputs": [],
   "source": [
    "# der gleiche Befehl funktioniert auch für ein Bestimmtes Integral:\n",
    "sp.integrate(f, (x, 0, sp.pi))"
   ]
  },
  {
   "cell_type": "code",
   "execution_count": null,
   "metadata": {},
   "outputs": [],
   "source": [
    "# noch ein bestimmtes Integral\n",
    "sp.integrate(1/sp.sqrt(2 * sp.pi) * sp.exp(-x**2 / 2), (x, -sp.oo, sp.oo))"
   ]
  },
  {
   "cell_type": "code",
   "execution_count": null,
   "metadata": {},
   "outputs": [],
   "source": [
    "# und hier noch ein mehrfach-Integral. \n",
    "# Zunächst die Variablen für die Integration\n",
    "r, theta, phi = sp.symbols(\"r theta phi\")\n",
    "r, theta, phi"
   ]
  },
  {
   "cell_type": "code",
   "execution_count": null,
   "metadata": {},
   "outputs": [],
   "source": [
    "# und nun z.B. die Berechnung des Volumens der Einheitskugel\n",
    "sp.integrate(r**2 * sp.sin(theta), (r, 0, 1), (theta, 0, sp.pi), (phi, 0, 2*sp.pi))"
   ]
  },
  {
   "cell_type": "code",
   "execution_count": null,
   "metadata": {},
   "outputs": [],
   "source": [
    "# hier ein Beispiel für ein nicht lösbares Integral, zunächst unbestimmt\n",
    "unsolvable = sp.sin(sp.exp(-x**5)/x**2)\n",
    "\n",
    "sp.integrate(unsolvable, x)"
   ]
  },
  {
   "cell_type": "code",
   "execution_count": null,
   "metadata": {},
   "outputs": [],
   "source": [
    "# dann bestimmt (das sehen wir uns weiter unten nochmals an)\n",
    "sp.integrate(unsolvable, (x, 1, 2))"
   ]
  },
  {
   "cell_type": "markdown",
   "metadata": {},
   "source": [
    "## 2.2 Numerische Verfahren\n",
    "\n",
    "### 2.2.1 Numerisches Ableiten im Allgemeinen\n",
    "Zunächst sehen wir uns einmal an, wie man eigentlich eine Funktion numerisch ableitet. Genauer gesagt, sehen wir uns an, wie man den Wert der Ableitung einer Funktion an einer bestimmten Stelle numerisch berechnen kann. Dafür gibt es grundsätzlich ein Prinzip, nämlich das des <a href=\"https://de.wikipedia.org/wiki/Differenzenquotient\" target=\"_blank\">Differenzenquotienten</a>. Diesen schreibt man üblicherweise als\n",
    "\n",
    "$\\frac{f(x+h)-f(x)}{h}$\n",
    "\n",
    "wobei $h$ ein kleiner Abstand zwischen zwei Punkten ist. Aus dieser Formel ist allerdings klar, dass diese Steigung (einer <a href=\"https://de.wikipedia.org/wiki/Differenzenquotient\" target=\"_blank\">Sekante</a> mit einem Punkt an jener Stelle, wo man die Ableitung bestimmen möchte) erst im <a href=\"https://de.wikipedia.org/wiki/Grenzwert_(Folge)\" target=\"_blank\">Limes</a> mit der <a href=\"https://de.wikipedia.org/wiki/Tangente\" target=\"_blank\">Tangente</a> übereinstimmt (das ist ja auch die Definition des Differentialquotienten). <a href=\"https://de.wikipedia.org/wiki/Numerische_Mathematik\" target=\"_blank\">Numerisch</a> gesehen kann man das jedoch nicht erreichen (sonst dividiert man irgendwann durch 0). Somit erzeugt diese Art, die Ableitung numerisch zu bestimmen, einen numerischen Fehler.\n",
    "\n",
    "Je nach gewünschter Genauigkeit ist es daher hilfreich, mehrere Terme zu kombinieren und so den numerischen Fehler zu reduzieren. Die einfachste Möglichkeit dafür ist eine symmetrische Version des Differenzenquotienten zu nehmen:\n",
    "\n",
    "$\\frac{f(x+h)-f(x-h)}{2h}$\n",
    "\n",
    "Wenn man sich diesen Ausdruck und die zugehörige Sekante durchdenkt, wird rasch intuitiv klar, dass deren Steigung wesentlich besser der Tangentensteigung entspricht. Durch die Hinzunahme noch weiterer Terme wird der numerische Fehler immer kleiner. Wir wollen uns allerdings nicht unbedingt mit solchen Dingen befassen, sondern damit, wie wir in Python numerisch differenzieren können.\n",
    "\n",
    "Nehmen wir also z.B. die zweite Formel her und setzen diese in Python für ein einfaches <a href=\"https://numpy.org/doc/stable/reference/generated/numpy.array.html\" target=\"_blank\">NumPy-Array</a> um:"
   ]
  },
  {
   "cell_type": "code",
   "execution_count": null,
   "metadata": {},
   "outputs": [],
   "source": [
    "# ein paar x-Werte\n",
    "x_vals = np.linspace(1, 4, 50)\n",
    "\n",
    "# dazu eine Funktion, sagen wir x^3\n",
    "xcubed_vals = x_vals ** 3\n",
    "\n",
    "# dann die Funktion für die Ableitung\n",
    "# zunächst definieren wir h\n",
    "h_param = 1.e-5\n",
    "\n",
    "# dann die symmetrische Formel\n",
    "numerical_diff_xcubed = ((x_vals + h_param)**3 - (x_vals - h_param)**3) / 2 / h_param"
   ]
  },
  {
   "cell_type": "code",
   "execution_count": null,
   "metadata": {},
   "outputs": [],
   "source": [
    "%matplotlib inline\n",
    "import matplotlib.pyplot as plt\n",
    "\n",
    "# sehen wir uns das kurz an\n",
    "\n",
    "# Erzeuge Figur\n",
    "fig = plt.figure()\n",
    "\n",
    "plt.plot(x_vals, xcubed_vals, label=r\"$x^3$\")\n",
    "\n",
    "plt.plot(x_vals, numerical_diff_xcubed, label=r\"$3x^2$\")\n",
    "\n",
    "plt.legend(loc=0)\n",
    "\n",
    "plt.show()"
   ]
  },
  {
   "cell_type": "markdown",
   "metadata": {},
   "source": [
    "Das ist zwar alles schön und gut, aber wieso brauchen wir das denn eigentlich? Wir könnten ja genauso gut die Ableitung von $x^3$ berechnen, programmieren (oder mit SymPy berechnen lassen), und dann numerisch auswerten, denn die Ableitung einer Funktion kann man ja immer berechnen.\n",
    "\n",
    "Das gilt allerdings nicht mehr so einfach, wenn man die Funktion nicht in geschlossener Form kennt, oder einfach irgendwelche Daten \"geschenkt\" bekommt, mit denen man arbeiten soll. Z.B. ein verrauschtes Signal, das wir jetzt einfach einmal folgendermaßen nachstellen wollen:"
   ]
  },
  {
   "cell_type": "code",
   "execution_count": null,
   "metadata": {},
   "outputs": [],
   "source": [
    "# die x-Werte von vorhin\n",
    "x_vals = np.linspace(1, 4, 50)\n",
    "\n",
    "# dazu eine Funktion, sagen wir x^3, aber mit Zufallszahlen dazuaddiert\n",
    "xcubed_vals = x_vals ** 3 + 0.7 * np.random.random(size=(len(x_vals)))\n",
    "\n",
    "# dann die Funktion für die Ableitung\n",
    "# zunächst definieren wir h\n",
    "h_param = 1.e-5\n",
    "\n",
    "# die symmetrische Formel muss an dieser Stelle etwas anders geschrieben werden\n",
    "numerical_diff_xcubed = ((x_vals + h_param)**3 + 0.7 * np.random.random(size=(len(x_vals))) \n",
    "                       - (x_vals - h_param)**3 - 0.7 * np.random.random(size=(len(x_vals)))) / 2 / h_param\n",
    "\n",
    "# sehen wir uns auch das kurz an\n",
    "\n",
    "# Erzeuge Figur\n",
    "fig = plt.figure()\n",
    "\n",
    "plt.plot(x_vals, xcubed_vals, label=r\"$x^3$\")\n",
    "\n",
    "plt.plot(x_vals, numerical_diff_xcubed, label=r\"$3x^2$\")\n",
    "\n",
    "plt.legend(loc=0)\n",
    "\n",
    "plt.show()"
   ]
  },
  {
   "cell_type": "markdown",
   "metadata": {},
   "source": [
    "Das sieht relativ chaotisch aus, und das ist es auch. Die großen Änerungen in der Ableitung kommen von den Zufallstermen und daher, dass der Abstand zwischen zwei nebeneinanderliegenden Werten sehr klein ist. Nehmen wir also $h$ etwas größer an, und plotten wir diese Darstellung für verschiedene Werte."
   ]
  },
  {
   "cell_type": "code",
   "execution_count": null,
   "metadata": {},
   "outputs": [],
   "source": [
    "# die x-Werte von vorhin\n",
    "x_vals = np.linspace(1, 4, 50)\n",
    "\n",
    "# dazu eine Funktion, sagen wir x^3, aber mit Zufallszahlen dazuaddiert\n",
    "xcubed_vals = x_vals ** 3 + 0.7 * np.random.random(size=(len(x_vals)))\n",
    "\n",
    "# Erzeuge Figur\n",
    "fig = plt.figure(figsize=(15, 20))\n",
    "\n",
    "# hier nun der Loop über verschiedene Werte von h\n",
    "for ind_param, h_param in enumerate([1.e-5, 1.e-4, 1.e-3, 1.e-2, 1.e-1, .5]): \n",
    "\n",
    "    ax = plt.subplot(3, 2, ind_param+1)\n",
    "    \n",
    "    # die symmetrische Formel muss an dieser Stelle etwas anders geschrieben werden\n",
    "    numerical_diff_xcubed = ((x_vals + h_param)**3 + 0.7 * np.random.random(size=(len(x_vals))) \n",
    "                           - (x_vals - h_param)**3 - 0.7 * np.random.random(size=(len(x_vals)))) / 2 / h_param\n",
    "\n",
    "    # plotten der beiden Kurven\n",
    "    ax.plot(x_vals, xcubed_vals, label=r\"$x^3$\")\n",
    "\n",
    "    ax.plot(x_vals, numerical_diff_xcubed, label=r\"$3x^2$\")\n",
    "\n",
    "    # plt.legend(loc=0)\n",
    "\n",
    "plt.show()"
   ]
  },
  {
   "cell_type": "markdown",
   "metadata": {},
   "source": [
    "So sehen wir, dass man auf die numerische Genauigkeit (Rauschen) und auf den Abstand zwischen den Punkten achten muss. Manchmal kann man sich jedoch beides nicht wirklich aussuchen und muss mit jener Qualität arbeiten, die man zur Verfügung hat."
   ]
  },
  {
   "cell_type": "markdown",
   "metadata": {},
   "source": [
    "### 2.2.2 Numerisches Ableiten in Python\n",
    "Es ist gut, dass Sie jetzt wissen, wie man eine numerische Ableitung berechnet und programmiert. Doch dabei wollen wir es in der Praxis belassen. Denn es ist nicht nötig, jedes mal so einen Aufwand zu betreiben, wenn Sie numerisch differenzieren wollen. Also holen wir uns jetzt die nötige Funktionalität einfach an Bord.\n",
    "\n",
    "Dazu verwenden wir die Package <a href=\"https://numpy.org/\" target=\"_blank\">NumPy</a>, die wir bereits kennen und die uns noch viel Freude machen wird. Der Befehl für eine Ableitung in numpy ist _np.gradient()_. Das Praktische: Das funktioniert auch in mehreren Dimensionen."
   ]
  },
  {
   "cell_type": "code",
   "execution_count": null,
   "metadata": {},
   "outputs": [],
   "source": [
    "# ein Beispiel für ein Array, wieder einmal zufällig gewählt:\n",
    "data_array = np.random.random(size=(200, 200))\n",
    "\n",
    "# und hier die Ableitung in alle Richtungen\n",
    "data_derivative = np.gradient(data_array)\n",
    "\n",
    "# Erzeuge eine Figur\n",
    "fig=plt.figure(figsize=(15,10))\n",
    "\n",
    "# erster Subplot: das 2x2 array\n",
    "ax1 = plt.subplot(131)\n",
    "ax1.matshow(data_array)\n",
    "\n",
    "# zweiter Subplot: die Ableitung des Arrays entlang der einen Koordinate\n",
    "ax2 = plt.subplot(132)\n",
    "ax2.matshow(data_derivative[0])\n",
    "\n",
    "# dritter Subplot: die Ableitung des Arrays entlang der anderen Koordinate\n",
    "ax3 = plt.subplot(133)\n",
    "ax3.matshow(data_derivative[1])\n",
    "\n",
    "plt.show()"
   ]
  },
  {
   "cell_type": "markdown",
   "metadata": {},
   "source": [
    "### 2.2.3 Numerische Integration im Allgemeinen\n",
    "Auch und vor allem Integration wird sehr oft numerisch gemacht. Das kommt einerseits daher, dass man ja nicht alle Funktionen analytisch integrieren kann (im Gegensatz dazu, dass man alle in einer geschlossenen Form angeschriebenen Funktionen grundsätzlich analytisch differenzieren kann).\n",
    "\n",
    "Für numerisches Integrieren gibt es mehrere Möglichkeiten. An dieser Stelle befassen wir uns erst einmal mit der einfachsten Methode, der <a href=\"https://de.wikipedia.org/wiki/Trapezregel\" target=\"_blank\">Trapezregel</a>. Die Monte-Carlo-Integration kommt <a href=\"https://theoreticalphysics.eu/monte-carlo-methoden-simulation-und-integration/\" target=\"_blank\">an einer späteren Stelle</a> zum Einsatz.\n",
    "\n",
    "Die Trapezregel hat ihren Namen von der konkreten Art und Weise, wie man Trapeze zum Annähern des Integrals benutzt. Dabei wird die Fläche unter der Kurve zwischen zwei Punkten $a$ und $b$ durch jenes Trapez angenähert, das entsteht, wenn man die Punkte $a$ und $b$ auf der $x$-Achse, sowie die Punkte $f(a)$ und $f(b)$ durch gerade Linien verbindet."
   ]
  },
  {
   "cell_type": "markdown",
   "metadata": {},
   "source": [
    "### 2.2.4 Numerische Integration in Python\n",
    "Wieder gilt: Um sich selbst nicht zu sehr in Programmier-Details zu verstricken, verwenden wir in der Praxis am besten Bibliotheken. Die _NumPy_-Package hält auch die Trapezregel als _np.trapz()_ für uns bereit, sodass wir z.B. das nicht direkt lösbare Integral von oben nun numerisch angehen können:"
   ]
  },
  {
   "cell_type": "code",
   "execution_count": null,
   "metadata": {},
   "outputs": [],
   "source": [
    "# numpy.trapz() braucht ein Array von y-Werten\n",
    "# dazu generiern wir zuerst einige x-Werte auf unserem Integrationsintervall [1, 2]\n",
    "a = 1\n",
    "b = 2\n",
    "\n",
    "# und bereite y-Werte vor\n",
    "y_num = sp.lambdify(x, unsolvable)\n",
    "\n",
    "# hier ein for-Loop über verschiedene Werte für die Anzahl \n",
    "# der Integrationspunkte oder \"Stützstellen\"\n",
    "for n_points in [2, 5, 10, 20, 200, 2000, 20000, 200000]:\n",
    "    \n",
    "    # definiere den Abstand zwischen zwei Punkten\n",
    "    del_x = (b-a)/n_points\n",
    "\n",
    "    # Erzeuge n_points x-Werte von a bis b\n",
    "    x_values = np.linspace(a, b, n_points)   \n",
    "\n",
    "    # rechne y-Werte aus\n",
    "    y_values = y_num(x_values)\n",
    "\n",
    "    # Berechne das numerische Integral mit der Trapezregel\n",
    "    # und gib das Resultat sowie die Anzahl der verwendeten Punkte aus\n",
    "    # np.trapz braucht hier y-Werte und den Abstand zwischen den x-Werten, nicht mehr\n",
    "    print(np.trapz(y_values, dx=del_x), \"für\", n_points, \"Integrationspunkte.\")"
   ]
  },
  {
   "cell_type": "code",
   "execution_count": null,
   "metadata": {},
   "outputs": [],
   "source": [
    "# wie sieht diese Funktion eigentlich aus?\n",
    "fig = plt.figure()\n",
    "\n",
    "# nimm die zuletzt verwendeten y-Werte und plotte sie\n",
    "plt.plot(x_values, y_values)\n",
    "\n",
    "plt.title(unsolvable)\n",
    "\n",
    "plt.show()"
   ]
  },
  {
   "cell_type": "markdown",
   "metadata": {},
   "source": [
    "## 2.3 Übungsaufgabe: Kurvendiskussion\n",
    "Wir werden nun diese Methoden auf etwas anwenden, das Ihnen bekannt vorkommen sollte: Die <a href=\"https://de.wikipedia.org/wiki/Kurvendiskussion\" target=\"_blank\">Kurvendiskussion</a>. Als Beispielfunktion nehmen wir ein <a href=\"https://de.wikipedia.org/wiki/Polynom\" target=\"_blank\">Polynom</a> 3. Grades, und zwar: $p(x)=x^3+x^2-2x+4$. Sie sollen damit folgendes tun:\n",
    "\n",
    "* Definieren Sie das Polynom als Funktion in SymPy, und zwar als Funktion des SymPy-Symbols _x_\n",
    "* Verwenden Sie <a href=\"https://matplotlib.org/\" target=\"_blank\">Matplotlib</a>, um eine grafische Darstellung der Funktion im Bereich -3 bis 3 zu machen\n",
    "* Um die Daten für das Plotten zu bekommen, werten Sie die symbolische Funktion numerisch aus und erzeugen Sie so ein NumPy-Array\n",
    "* Finden Sie mit SymPy die Nullstellen des Polynoms mittels _solveset_\n",
    "* Finden Sie symbolisch die ersten beiden Ableitungen\n",
    "* Finden Sie mit SymPy die <a href=\"https://de.wikipedia.org/wiki/Nullstelle\" target=\"_blank\">Nullstellen</a> der ersten beiden Ableitungen\n",
    "* Stellen Sie die Ableitungen zusammen mit der Funktion in einem Plot dar\n",
    "* Markieren Sie im Plot auf der Funktion die Positionen der Nullstellen, <a href=\"https://de.wikipedia.org/wiki/Extremwert\" target=\"_blank\">Extremwerte</a> und <a href=\"https://de.wikipedia.org/wiki/Wendepunkt\" target=\"_blank\">Wendepunkte</a>\n",
    "\n",
    "__Zusatzaufgabe (optional)__: Verpacken Sie diese Funktionalität so in eine Python-Funktion, dass Sie dieser Funktion nur einen SymPy-Ausdruck, eine Variable (ein Symbol) und eine Plotbereich (ein NumPy-Array, z.B. einen Linspace) übergeben müssen, und der Rest automatisch gemacht wird. Probieren Sie Ihre Funktion für verschiedene SymPy-Ausdrücke (also Kurven) aus."
   ]
  },
  {
   "cell_type": "code",
   "execution_count": null,
   "metadata": {},
   "outputs": [],
   "source": [
    "# Vorbereitungen und das Polynom\n",
    "\n",
    "# die x-Werte zum Plotten\n",
    "x_vals = np.linspace(-3, 3, 100)\n",
    "\n",
    "# das Polynom in SymPy\n",
    "p = x**3 + x**2 - 2 * x + 4\n",
    "p"
   ]
  },
  {
   "cell_type": "code",
   "execution_count": null,
   "metadata": {},
   "outputs": [],
   "source": [
    "# verpacke alles in eine Funktion von \n",
    "# x als Symbol, p als Sympy Expression, x_vals als Plot-Domain\n",
    "def perform_curve_sketching(p, x, x_vals):\n",
    "\n",
    "    # Polynom für Arrays bereit machen\n",
    "    poly_num = sp.lambdify(x, p)\n",
    "\n",
    "    # die Werte von p an den x-Stellen\n",
    "    p_vals = poly_num(x_vals)\n",
    "\n",
    "    # Die erste und zweite Ableitung\n",
    "    p_1 = sp.diff(p, x)\n",
    "    p_2 = sp.diff(p, x, 2)\n",
    "\n",
    "    # vorbereiten auf numerische Ausgabe\n",
    "    p_1_num = sp.lambdify(x, p_1)\n",
    "    p_2_num = sp.lambdify(x, p_2)\n",
    "\n",
    "    # die numerischen Werte für die Plots\n",
    "    p_1_vals = p_1_num(x_vals)\n",
    "    p_2_vals = p_2_num(x_vals)\n",
    "\n",
    "    # finde die Nullstellen der Funktion\n",
    "    zeros = list(sp.N(sp.solveset(sp.Eq(p, 0), domain=sp.Reals)))\n",
    "    # diese Lösungen sollten alle reell sein\n",
    "\n",
    "    # finde Extremwerte und Wendepunkte über Nullstellen der Ableitungen\n",
    "    extrema = list(sp.N(sp.solveset(sp.Eq(p_1, 0), domain=sp.Reals)))\n",
    "    inflection_points = list(sp.N(sp.solveset(sp.Eq(p_2, 0), domain=sp.Reals)))\n",
    "\n",
    "\n",
    "    # Erzeuge neue Figur\n",
    "    fig = plt.figure()\n",
    "\n",
    "    # zeichne Funktion\n",
    "    plt.plot(x_vals, p_vals, \"b\", label=\"Funktion\")\n",
    "\n",
    "    # Zeichne 1. Ableitung\n",
    "    plt.plot(x_vals, p_1_vals, \"g--\", label=\"1. Ableitung\")\n",
    "\n",
    "    # Zeichne 2. Ableitung\n",
    "    plt.plot(x_vals, p_2_vals, \"r--\", label=\"2. Ableitung\")\n",
    "\n",
    "    # Zeichne Nullstellen als X\n",
    "    for a_zero in zeros:\n",
    "        plt.plot(a_zero, 0, \"kx\", markersize=15)\n",
    "\n",
    "    # Zeichne Extremstellen als X\n",
    "    for one_ex in extrema:\n",
    "        plt.plot(one_ex, sp.N(p.subs(x, one_ex)), \"gx\", markersize=15)\n",
    "\n",
    "    # Zeichne Extremstellen als X\n",
    "    for one_inf in inflection_points:\n",
    "        plt.plot(one_inf, sp.N(p.subs(x, one_inf)), \"rx\", markersize=15)\n",
    "\n",
    "    # Zeichne eine horizontale Linie bei 0 von -3 bis 3\n",
    "    plt.hlines(0, -3, 3, \"k\")\n",
    "\n",
    "    # Schreibe das Polynom als Plot-Titel über die Figur\n",
    "    plt.title(p)\n",
    "\n",
    "    # Generiere die Legende\n",
    "    plt.legend(loc=0)\n",
    "    \n",
    "    # Zeige den Plot\n",
    "    plt.show()"
   ]
  },
  {
   "cell_type": "code",
   "execution_count": null,
   "metadata": {},
   "outputs": [],
   "source": [
    "# Jetzt rufen wir das für eine andere Kurve auf\n",
    "p = x**4 - 4\n",
    "\n",
    "perform_curve_sketching(p, x, x_vals)"
   ]
  },
  {
   "cell_type": "code",
   "execution_count": null,
   "metadata": {},
   "outputs": [],
   "source": [
    "# Jetzt rufen wir das für eine andere Kurve auf\n",
    "p = x**6 - 3*x**5 + 2*x**3 - 4*x + 1\n",
    "\n",
    "perform_curve_sketching(p, x, x_vals)"
   ]
  },
  {
   "cell_type": "code",
   "execution_count": null,
   "metadata": {},
   "outputs": [],
   "source": []
  }
 ],
 "metadata": {
  "kernelspec": {
   "display_name": "Python 3",
   "language": "python",
   "name": "python3"
  },
  "language_info": {
   "codemirror_mode": {
    "name": "ipython",
    "version": 3
   },
   "file_extension": ".py",
   "mimetype": "text/x-python",
   "name": "python",
   "nbconvert_exporter": "python",
   "pygments_lexer": "ipython3",
   "version": "3.8.5"
  }
 },
 "nbformat": 4,
 "nbformat_minor": 4
}
